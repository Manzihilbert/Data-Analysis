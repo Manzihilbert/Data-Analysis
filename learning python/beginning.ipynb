{
 "cells": [
  {
   "cell_type": "markdown",
   "id": "baa3e4c4",
   "metadata": {},
   "source": [
    "Data analysis with python"
   ]
  },
  {
   "cell_type": "code",
   "execution_count": 1,
   "id": "725d2721",
   "metadata": {},
   "outputs": [
    {
     "data": {
      "text/plain": [
       "'/home/manzi/PythonClass/Python book/pydata-book/study'"
      ]
     },
     "execution_count": 1,
     "metadata": {},
     "output_type": "execute_result"
    }
   ],
   "source": [
    "%pwd\n"
   ]
  },
  {
   "cell_type": "code",
   "execution_count": 2,
   "id": "1f40e0ce",
   "metadata": {},
   "outputs": [],
   "source": [
    "path = 'datasets/bitly_usagov/example.txt'"
   ]
  },
  {
   "cell_type": "code",
   "execution_count": 3,
   "id": "1d5475dc",
   "metadata": {},
   "outputs": [
    {
     "data": {
      "text/plain": [
       "'{ \"a\": \"Mozilla\\\\/5.0 (Windows NT 6.1; WOW64) AppleWebKit\\\\/535.11 (KHTML, like Gecko) Chrome\\\\/17.0.963.78 Safari\\\\/535.11\", \"c\": \"US\", \"nk\": 1, \"tz\": \"America\\\\/New_York\", \"gr\": \"MA\", \"g\": \"A6qOVH\", \"h\": \"wfLQtf\", \"l\": \"orofrog\", \"al\": \"en-US,en;q=0.8\", \"hh\": \"1.usa.gov\", \"r\": \"http:\\\\/\\\\/www.facebook.com\\\\/l\\\\/7AQEFzjSi\\\\/1.usa.gov\\\\/wfLQtf\", \"u\": \"http:\\\\/\\\\/www.ncbi.nlm.nih.gov\\\\/pubmed\\\\/22415991\", \"t\": 1331923247, \"hc\": 1331822918, \"cy\": \"Danvers\", \"ll\": [ 42.576698, -70.954903 ] }\\n'"
      ]
     },
     "execution_count": 3,
     "metadata": {},
     "output_type": "execute_result"
    }
   ],
   "source": [
    "open(path).readline()"
   ]
  },
  {
   "cell_type": "code",
   "execution_count": 4,
   "id": "69d655de",
   "metadata": {},
   "outputs": [],
   "source": [
    "import json\n",
    "records = [json.loads(line) for line in open(path)]"
   ]
  },
  {
   "cell_type": "code",
   "execution_count": 5,
   "id": "3828e30b",
   "metadata": {},
   "outputs": [
    {
     "data": {
      "text/plain": [
       "{'a': 'Mozilla/5.0 (Windows NT 6.1; WOW64) AppleWebKit/535.11 (KHTML, like Gecko) Chrome/17.0.963.78 Safari/535.11',\n",
       " 'c': 'US',\n",
       " 'nk': 1,\n",
       " 'tz': 'America/New_York',\n",
       " 'gr': 'MA',\n",
       " 'g': 'A6qOVH',\n",
       " 'h': 'wfLQtf',\n",
       " 'l': 'orofrog',\n",
       " 'al': 'en-US,en;q=0.8',\n",
       " 'hh': '1.usa.gov',\n",
       " 'r': 'http://www.facebook.com/l/7AQEFzjSi/1.usa.gov/wfLQtf',\n",
       " 'u': 'http://www.ncbi.nlm.nih.gov/pubmed/22415991',\n",
       " 't': 1331923247,\n",
       " 'hc': 1331822918,\n",
       " 'cy': 'Danvers',\n",
       " 'll': [42.576698, -70.954903]}"
      ]
     },
     "execution_count": 5,
     "metadata": {},
     "output_type": "execute_result"
    }
   ],
   "source": [
    "records[0]"
   ]
  },
  {
   "cell_type": "code",
   "execution_count": 6,
   "id": "51c72683",
   "metadata": {},
   "outputs": [
    {
     "data": {
      "text/plain": [
       "'America/New_York'"
      ]
     },
     "execution_count": 6,
     "metadata": {},
     "output_type": "execute_result"
    }
   ],
   "source": [
    "records[0]['tz']"
   ]
  },
  {
   "cell_type": "code",
   "execution_count": 7,
   "id": "8a2dca52",
   "metadata": {},
   "outputs": [],
   "source": [
    "a = 5\n",
    "b  = 10\n",
    "c = a + b\n",
    "d = [1,2,3,4,5]\n",
    "d.reverse()"
   ]
  },
  {
   "cell_type": "code",
   "execution_count": 8,
   "id": "361a6b8e",
   "metadata": {},
   "outputs": [
    {
     "data": {
      "text/plain": [
       "[5, 4, 3, 2, 1]"
      ]
     },
     "execution_count": 8,
     "metadata": {},
     "output_type": "execute_result"
    }
   ],
   "source": [
    "d"
   ]
  },
  {
   "cell_type": "code",
   "execution_count": 9,
   "id": "c31cfa61",
   "metadata": {},
   "outputs": [],
   "source": [
    "import datetime"
   ]
  },
  {
   "cell_type": "code",
   "execution_count": 10,
   "id": "80f25ceb",
   "metadata": {},
   "outputs": [
    {
     "data": {
      "text/plain": [
       "datetime.time"
      ]
     },
     "execution_count": 10,
     "metadata": {},
     "output_type": "execute_result"
    }
   ],
   "source": [
    "datetime.time"
   ]
  },
  {
   "cell_type": "code",
   "execution_count": 11,
   "id": "7e2686ee",
   "metadata": {},
   "outputs": [],
   "source": [
    "#ipython hides methods that start with underscores if you \n",
    "#want to see them, you can fist type an _ then tab."
   ]
  },
  {
   "cell_type": "code",
   "execution_count": 12,
   "id": "7eb141fb",
   "metadata": {},
   "outputs": [
    {
     "data": {
      "text/plain": [
       "6"
      ]
     },
     "execution_count": 12,
     "metadata": {},
     "output_type": "execute_result"
    }
   ],
   "source": [
    "def calc (a,b,c):\n",
    "    return a+b+c\n",
    "\n",
    "calc(1,2,3)"
   ]
  },
  {
   "cell_type": "code",
   "execution_count": 13,
   "id": "bfca3f3b",
   "metadata": {},
   "outputs": [],
   "source": [
    "e = [1,2,3,4]\n",
    "f = ()\n",
    "g = (1,2,3) #this is a tuple, it is immutable, ordered\n",
    "h = {1,2,4,3} #this is a set, it is unodered and immutable"
   ]
  },
  {
   "cell_type": "code",
   "execution_count": 14,
   "id": "d1e209f5",
   "metadata": {},
   "outputs": [
    {
     "ename": "SyntaxError",
     "evalue": "invalid syntax (1520635656.py, line 1)",
     "output_type": "error",
     "traceback": [
      "\u001b[0;36m  Cell \u001b[0;32mIn[14], line 1\u001b[0;36m\u001b[0m\n\u001b[0;31m    g? #this gives information about that object\u001b[0m\n\u001b[0m     ^\u001b[0m\n\u001b[0;31mSyntaxError\u001b[0m\u001b[0;31m:\u001b[0m invalid syntax\n"
     ]
    }
   ],
   "source": [
    "g? #this gives information about that object\n"
   ]
  },
  {
   "cell_type": "code",
   "execution_count": null,
   "id": "b208906e",
   "metadata": {},
   "outputs": [],
   "source": [
    "g[2]"
   ]
  },
  {
   "cell_type": "code",
   "execution_count": null,
   "id": "9e1f16cb",
   "metadata": {},
   "outputs": [],
   "source": [
    "print?"
   ]
  },
  {
   "cell_type": "code",
   "execution_count": null,
   "id": "22c3288c",
   "metadata": {},
   "outputs": [],
   "source": [
    "calc?"
   ]
  },
  {
   "cell_type": "code",
   "execution_count": null,
   "id": "1baf9910",
   "metadata": {},
   "outputs": [],
   "source": [
    "import numpy as np"
   ]
  },
  {
   "cell_type": "code",
   "execution_count": null,
   "id": "c3796ddf",
   "metadata": {},
   "outputs": [],
   "source": [
    "np.*load*? #*(word)* this brings all the names matching the selected name from a particular name space, this time the numpy name space"
   ]
  },
  {
   "cell_type": "code",
   "execution_count": null,
   "id": "682c2166",
   "metadata": {},
   "outputs": [],
   "source": [
    "#python uses indantation not braces to structure code\n",
    "#look at this for loop. (a for look iterates through items)\n",
    "\n",
    "for i in range(10):\n",
    "    if i < 5:\n",
    "        if i > 3:\n",
    "            print(i)\n",
    "    "
   ]
  },
  {
   "cell_type": "code",
   "execution_count": null,
   "id": "42976a14",
   "metadata": {},
   "outputs": [],
   "source": [
    "a = [1,2,3,4] #in this case, you have created a variable (name) a that refers to the (list object) b which is stored with an address somehwere in memory\n",
    "b = a #this b also points to the memory address of the list and does not copy the values and store them in b \n",
    "b #this outputs values in the list as shown in a"
   ]
  },
  {
   "cell_type": "code",
   "execution_count": null,
   "id": "74ede251",
   "metadata": {},
   "outputs": [],
   "source": [
    "b.append(5)\n",
    "a"
   ]
  },
  {
   "cell_type": "code",
   "execution_count": null,
   "id": "4251e107",
   "metadata": {},
   "outputs": [],
   "source": [
    "#when you assign a name to refer to an object stored in a memory address,\n",
    "#you are said to have defined initialised a variable.\n",
    "#this is also the same as binding a name to an object ie a(name) is bound to ([12,3,4,5]) \n",
    "#this variable a is then called a bound variable."
   ]
  },
  {
   "cell_type": "code",
   "execution_count": null,
   "id": "85cc82d2",
   "metadata": {},
   "outputs": [],
   "source": [
    "listing = [1,2,3,4]\n",
    "\n",
    "def num(listing):\n",
    "    listing.append(4)\n",
    "\n"
   ]
  },
  {
   "cell_type": "code",
   "execution_count": null,
   "id": "3646e283",
   "metadata": {},
   "outputs": [],
   "source": [
    "listing"
   ]
  },
  {
   "cell_type": "code",
   "execution_count": null,
   "id": "18b13102",
   "metadata": {},
   "outputs": [],
   "source": [
    "num(listing)"
   ]
  },
  {
   "cell_type": "code",
   "execution_count": null,
   "id": "40b1a104",
   "metadata": {},
   "outputs": [],
   "source": [
    "listing"
   ]
  },
  {
   "cell_type": "code",
   "execution_count": null,
   "id": "3fcc6129",
   "metadata": {},
   "outputs": [],
   "source": [
    "#in python, a variable name can be dynamic in that it can take on a new datatype even those it had one already\n",
    "a = 2\n",
    "type(a)"
   ]
  },
  {
   "cell_type": "code",
   "execution_count": null,
   "id": "4de4ba83",
   "metadata": {},
   "outputs": [],
   "source": [
    "a = 'string'\n",
    "type(a)"
   ]
  },
  {
   "cell_type": "code",
   "execution_count": null,
   "id": "7f8de947",
   "metadata": {},
   "outputs": [],
   "source": [
    "4 + 4.5"
   ]
  },
  {
   "cell_type": "code",
   "execution_count": null,
   "id": "a33b8d5e",
   "metadata": {},
   "outputs": [],
   "source": [
    "isinstance (a, str)"
   ]
  },
  {
   "cell_type": "code",
   "execution_count": null,
   "id": "373ca68f",
   "metadata": {},
   "outputs": [],
   "source": [
    "a = 'foo'"
   ]
  },
  {
   "cell_type": "code",
   "execution_count": null,
   "id": "47fb78b3",
   "metadata": {},
   "outputs": [],
   "source": [
    "a.isupper"
   ]
  },
  {
   "cell_type": "code",
   "execution_count": null,
   "id": "5727b976",
   "metadata": {},
   "outputs": [],
   "source": []
  },
  {
   "cell_type": "code",
   "execution_count": null,
   "id": "1b67514b",
   "metadata": {},
   "outputs": [],
   "source": [
    "getattr(a, 'split')"
   ]
  },
  {
   "cell_type": "code",
   "execution_count": null,
   "id": "9dcdef08",
   "metadata": {},
   "outputs": [],
   "source": [
    "#define a try catch block\n",
    "def isiterable(obj):\n",
    "    try:\n",
    "        iter(obj)\n",
    "        return True\n",
    "    except TypeError:\n",
    "        return False"
   ]
  },
  {
   "cell_type": "code",
   "execution_count": null,
   "id": "35eff7af",
   "metadata": {},
   "outputs": [],
   "source": [
    "isiterable('astring')"
   ]
  },
  {
   "cell_type": "code",
   "execution_count": null,
   "id": "25a2db3a",
   "metadata": {},
   "outputs": [],
   "source": [
    "#duck typing is where you want to check for what an object can do instead of what it is \n",
    "isiterable([1,2,3])"
   ]
  },
  {
   "cell_type": "code",
   "execution_count": null,
   "id": "33472e2d",
   "metadata": {},
   "outputs": [],
   "source": [
    "def iterate(obj):\n",
    "    try:\n",
    "        iter(obj)\n",
    "        return True\n",
    "    except TypeError:\n",
    "        return False\n",
    "    "
   ]
  },
  {
   "cell_type": "code",
   "execution_count": null,
   "id": "990fbb6c",
   "metadata": {},
   "outputs": [],
   "source": [
    "#iterate(5,3) this brings an error\n",
    "iterate('string')"
   ]
  },
  {
   "cell_type": "code",
   "execution_count": null,
   "id": "ba77714b",
   "metadata": {},
   "outputs": [],
   "source": [
    "print(iter('string'))"
   ]
  },
  {
   "cell_type": "code",
   "execution_count": null,
   "id": "373b39b5",
   "metadata": {},
   "outputs": [],
   "source": [
    "#the output above is the same as true for the previous request.\n",
    "#it returns the fact that the object is a string and goes ahead to share the memory location"
   ]
  },
  {
   "cell_type": "code",
   "execution_count": null,
   "id": "f0a5b39a",
   "metadata": {},
   "outputs": [],
   "source": [
    "import amodule\n",
    "\n",
    "a = 5 + amodule.D\n",
    "a"
   ]
  },
  {
   "cell_type": "code",
   "execution_count": null,
   "id": "f42df384",
   "metadata": {},
   "outputs": [],
   "source": [
    "import amodule"
   ]
  },
  {
   "cell_type": "code",
   "execution_count": null,
   "id": "b08fee25",
   "metadata": {},
   "outputs": [],
   "source": [
    "b = amodule.f(3)\n",
    "b"
   ]
  },
  {
   "cell_type": "code",
   "execution_count": null,
   "id": "ec597f29",
   "metadata": {},
   "outputs": [],
   "source": [
    "from amodule import PI"
   ]
  },
  {
   "cell_type": "code",
   "execution_count": null,
   "id": "b39cb7e1",
   "metadata": {},
   "outputs": [],
   "source": [
    "A = PI\n",
    "A"
   ]
  },
  {
   "cell_type": "code",
   "execution_count": null,
   "id": "ebbad7fd",
   "metadata": {},
   "outputs": [],
   "source": [
    "import amodule as am"
   ]
  },
  {
   "cell_type": "code",
   "execution_count": null,
   "id": "54f7d3ea",
   "metadata": {},
   "outputs": [],
   "source": [
    "a = am.PI\n",
    "a"
   ]
  },
  {
   "cell_type": "markdown",
   "id": "e3bd0fbf",
   "metadata": {},
   "source": [
    "Binary Operators"
   ]
  },
  {
   "cell_type": "code",
   "execution_count": null,
   "id": "e8c95ee0",
   "metadata": {},
   "outputs": [],
   "source": [
    "5-4"
   ]
  },
  {
   "cell_type": "code",
   "execution_count": null,
   "id": "ee862c7b",
   "metadata": {},
   "outputs": [],
   "source": [
    "3==3"
   ]
  },
  {
   "cell_type": "code",
   "execution_count": null,
   "id": "4faa2e1e",
   "metadata": {},
   "outputs": [],
   "source": [
    "a = 5\n",
    "b = 5\n",
    "a is b #this will return true because the two reference names a and b refer to the same memory address with the object 5"
   ]
  },
  {
   "cell_type": "code",
   "execution_count": null,
   "id": "550cff5b",
   "metadata": {},
   "outputs": [],
   "source": [
    "c = (1,2,3) #this is a tuple\n",
    "type(c)\n"
   ]
  },
  {
   "cell_type": "code",
   "execution_count": null,
   "id": "1ae266ae",
   "metadata": {},
   "outputs": [],
   "source": [
    "e = {1,2,3}\n",
    "type(e)"
   ]
  },
  {
   "cell_type": "code",
   "execution_count": null,
   "id": "6df0c070",
   "metadata": {},
   "outputs": [],
   "source": [
    "d = list(e) #this allows for creation of a new list and this comes in handy if you want to iterate of manipulate immutable data types such as tuples of sets\n",
    "#to change the value of a mutable object is to mutate it"
   ]
  },
  {
   "cell_type": "code",
   "execution_count": null,
   "id": "0b242ccd",
   "metadata": {},
   "outputs": [],
   "source": [
    "d"
   ]
  },
  {
   "cell_type": "code",
   "execution_count": null,
   "id": "81532746",
   "metadata": {},
   "outputs": [],
   "source": [
    "c is d"
   ]
  },
  {
   "cell_type": "code",
   "execution_count": null,
   "id": "3e268a62",
   "metadata": {},
   "outputs": [],
   "source": [
    "m = [1,2,3,4,5]\n",
    "m"
   ]
  },
  {
   "cell_type": "code",
   "execution_count": null,
   "id": "3cfc474b",
   "metadata": {},
   "outputs": [],
   "source": [
    "m.append(4)"
   ]
  },
  {
   "cell_type": "code",
   "execution_count": null,
   "id": "dd1a302b",
   "metadata": {},
   "outputs": [],
   "source": [
    "m"
   ]
  },
  {
   "cell_type": "code",
   "execution_count": null,
   "id": "f67b0ea8",
   "metadata": {},
   "outputs": [],
   "source": [
    "a = 123456 ** 10 #an int can hold a large number of values\n",
    "a"
   ]
  },
  {
   "cell_type": "code",
   "execution_count": null,
   "id": "b1f40628",
   "metadata": {},
   "outputs": [],
   "source": [
    "b = 6.73e-5\n",
    "b"
   ]
  },
  {
   "cell_type": "code",
   "execution_count": null,
   "id": "1b15de67",
   "metadata": {},
   "outputs": [],
   "source": [
    "#strings can be written with single of double quotes and if you\n",
    "#what to define a multi line string, you can use \"\"\" \"\"\" \n",
    "#this will ensure that all the values are printed based on their line\n",
    "\n",
    "n = \"\"\"This is line 1\n",
    "this is line 2\n",
    "this is line 3\n",
    "\"\"\"\n",
    "print(n)"
   ]
  },
  {
   "cell_type": "code",
   "execution_count": null,
   "id": "2a0ac8ea",
   "metadata": {},
   "outputs": [],
   "source": [
    "n.count(\"\\n\")"
   ]
  },
  {
   "cell_type": "code",
   "execution_count": null,
   "id": "409a0608",
   "metadata": {},
   "outputs": [],
   "source": [
    "#string are immutable and cannot just be changed by position\n",
    "n = \"this is a man\"\n",
    "n[10] = r"
   ]
  },
  {
   "cell_type": "code",
   "execution_count": null,
   "id": "cc965127",
   "metadata": {},
   "outputs": [],
   "source": [
    "#you can however use the replace keyword\n",
    "m = n.replace(\"man\",\"big man\") #syntax for this function is\n",
    "#the first position 0 takes the value in the string you want to change and then position 1 takes the new value you want to add there for the old one with is replaced"
   ]
  },
  {
   "cell_type": "code",
   "execution_count": null,
   "id": "4ae33b40",
   "metadata": {},
   "outputs": [],
   "source": [
    "m"
   ]
  },
  {
   "cell_type": "code",
   "execution_count": null,
   "id": "e71932aa",
   "metadata": {},
   "outputs": [],
   "source": [
    "a"
   ]
  },
  {
   "cell_type": "code",
   "execution_count": null,
   "id": "41d0b50d",
   "metadata": {},
   "outputs": [],
   "source": [
    "n"
   ]
  },
  {
   "cell_type": "code",
   "execution_count": null,
   "id": "212d61b0",
   "metadata": {},
   "outputs": [],
   "source": [
    "j = 5\n",
    "n = str(j)"
   ]
  },
  {
   "cell_type": "code",
   "execution_count": null,
   "id": "61d23a7a",
   "metadata": {},
   "outputs": [],
   "source": [
    "type(n)"
   ]
  },
  {
   "cell_type": "code",
   "execution_count": null,
   "id": "a9d82156",
   "metadata": {},
   "outputs": [],
   "source": [
    "s = \"python\"\n",
    "s[2:4] #this prints out the requested values in a process called slicing\n",
    "# [2(inclusive): 4(exclusive)] this means that the value at position 2 is included in the result whereas the one at position 4 is not included in the result"
   ]
  },
  {
   "cell_type": "code",
   "execution_count": null,
   "id": "bb6d62c4",
   "metadata": {},
   "outputs": [],
   "source": [
    "#\\ is called an escape character and is used to specify special characters such as new lines \n",
    "a = \"a\\nb\" #to include it you use \\\\ ie a = a\\\\b output is a\\b\n",
    "print(a)"
   ]
  },
  {
   "cell_type": "code",
   "execution_count": null,
   "id": "c8b137b8",
   "metadata": {},
   "outputs": [],
   "source": [
    "#raw (r) is used to create a string that has only literal character are printed. literal caracters ar characters presented as they are or as they appear\n",
    "s = \"this\\nhas\\nspecial\\ncharacter\"\n",
    "print(s)"
   ]
  },
  {
   "cell_type": "code",
   "execution_count": null,
   "id": "c26f5d80",
   "metadata": {},
   "outputs": [],
   "source": [
    "s = r\"this\\nhas\\nno\\nspecial\\ncharacters\"\n",
    "print(s)"
   ]
  },
  {
   "cell_type": "code",
   "execution_count": null,
   "id": "4858a853",
   "metadata": {},
   "outputs": [],
   "source": [
    "a = \"a\"\n",
    "b = \"string\"\n",
    "#c = a+b\n",
    "c = a + b[2:]\n",
    "c"
   ]
  },
  {
   "cell_type": "markdown",
   "id": "cecd73e8",
   "metadata": {},
   "source": [
    "string formating"
   ]
  },
  {
   "cell_type": "code",
   "execution_count": null,
   "id": "198b4e4a",
   "metadata": {},
   "outputs": [],
   "source": [
    "a = \"{0:.2f} is a number with {1:d} {2:s}\""
   ]
  },
  {
   "cell_type": "code",
   "execution_count": null,
   "id": "d369228a",
   "metadata": {},
   "outputs": [],
   "source": [
    "a.format(2.46461,1,\"decimal place\")\n"
   ]
  },
  {
   "cell_type": "code",
   "execution_count": null,
   "id": "aa01b320",
   "metadata": {},
   "outputs": [],
   "source": [
    "b = \"{0:s} is {1:d} years old.\"\n",
    "b.format(\"Manzi\",23)\n"
   ]
  },
  {
   "cell_type": "code",
   "execution_count": null,
   "id": "a336babe",
   "metadata": {},
   "outputs": [],
   "source": [
    "c = 23\n",
    "print(f\"Manzi is {c} years old\") #fstring is used here and this the the short name for formatted strings\n"
   ]
  },
  {
   "cell_type": "code",
   "execution_count": null,
   "id": "7b9910b3",
   "metadata": {},
   "outputs": [],
   "source": [
    "#you can use it before opening the brackets that define a string as shown below\n",
    "#interesting examples\n",
    "price = 23\n",
    "quantity = 3\n",
    "total = price * quantity\n",
    "result =f\"Manzi purchased {quantity} pens each valued at ${price} and the total amount spent was ${total}\"\n",
    "result"
   ]
  },
  {
   "cell_type": "code",
   "execution_count": null,
   "id": "2769657b",
   "metadata": {},
   "outputs": [],
   "source": [
    "#adding format specifiers to the string formating template\n",
    "result_2 =f\"Manzi purchased {quantity:.2f} pens each valued at ${price:d} and the total was ${price * quantity:.4f}\"\n",
    "result_2"
   ]
  },
  {
   "cell_type": "code",
   "execution_count": null,
   "id": "3b126e8f",
   "metadata": {},
   "outputs": [],
   "source": [
    "#python allows you to store non ascii characters such as ñ and this is possible because python holds unicode strings\n",
    "value = \"español\"\n",
    "value"
   ]
  },
  {
   "cell_type": "code",
   "execution_count": null,
   "id": "1d67f410",
   "metadata": {},
   "outputs": [],
   "source": [
    "#to convert this to utf-8, you can encode it with. Note: this converts the unicode value to a byte\n",
    "value_utf8 = value.encode(\"utf-8\")\n",
    "value_utf8"
   ]
  },
  {
   "cell_type": "code",
   "execution_count": null,
   "id": "b2853d50",
   "metadata": {},
   "outputs": [],
   "source": [
    "#value_utf9 = value_utf8.encode(\"utf-8\")\n",
    "#value_utf9 once it is a byte already, you cannot encode it further and even if you tried you would get an error for bytes do not have the encode attribute"
   ]
  },
  {
   "cell_type": "code",
   "execution_count": null,
   "id": "f65265a4",
   "metadata": {},
   "outputs": [],
   "source": [
    "type(value_utf8)"
   ]
  },
  {
   "cell_type": "code",
   "execution_count": null,
   "id": "58f372f7",
   "metadata": {},
   "outputs": [],
   "source": [
    "#you can take it back to unicode with\n",
    "value_utf8.decode(\"utf-8\")"
   ]
  },
  {
   "cell_type": "code",
   "execution_count": null,
   "id": "db4a7be5",
   "metadata": {},
   "outputs": [],
   "source": [
    "#the output above is in unicode again"
   ]
  },
  {
   "cell_type": "code",
   "execution_count": null,
   "id": "f0c91e28",
   "metadata": {},
   "outputs": [],
   "source": [
    "#You might also find data in different encodings ie\n",
    "value.encode(\"utf-16\")"
   ]
  },
  {
   "cell_type": "code",
   "execution_count": null,
   "id": "92d67c5f",
   "metadata": {},
   "outputs": [],
   "source": [
    "value.encode(\"latin1\")"
   ]
  },
  {
   "cell_type": "code",
   "execution_count": null,
   "id": "96dea92c",
   "metadata": {},
   "outputs": [],
   "source": [
    "value.encode(\"utf-16le\")"
   ]
  },
  {
   "cell_type": "markdown",
   "id": "299119cc",
   "metadata": {},
   "source": [
    "Boolean"
   ]
  },
  {
   "cell_type": "code",
   "execution_count": null,
   "id": "cda26440",
   "metadata": {},
   "outputs": [],
   "source": [
    "#these are true or false but when converted to numbers are 1 and 0\n",
    "int(False)"
   ]
  },
  {
   "cell_type": "code",
   "execution_count": null,
   "id": "a182f487",
   "metadata": {},
   "outputs": [],
   "source": [
    "int(True)"
   ]
  },
  {
   "cell_type": "code",
   "execution_count": null,
   "id": "5d71bc51",
   "metadata": {},
   "outputs": [],
   "source": [
    "#you can use the not keyword to change the value of a boolean to the opposite\n",
    "a = True\n",
    "b = not a\n",
    "b"
   ]
  },
  {
   "cell_type": "code",
   "execution_count": null,
   "id": "b5b7c589",
   "metadata": {},
   "outputs": [],
   "source": [
    "#type casting is basically changing one datatype to another\n",
    "a = \"5.4\" #it is a string\n",
    "b = float(a)\n",
    "b"
   ]
  },
  {
   "cell_type": "code",
   "execution_count": null,
   "id": "a15cb2ba",
   "metadata": {},
   "outputs": [],
   "source": [
    "type(a)"
   ]
  },
  {
   "cell_type": "code",
   "execution_count": null,
   "id": "1cdc843e",
   "metadata": {},
   "outputs": [],
   "source": [
    "int(b)"
   ]
  },
  {
   "cell_type": "code",
   "execution_count": null,
   "id": "b714fcda",
   "metadata": {},
   "outputs": [],
   "source": [
    "#NOTE: you can cannot convert a string that has a decimal point directly to an interger and you will get a value error when you try it becuase the decimal point \n",
    "#value is not a valid integer representation\n",
    "\n",
    "f = 4\n",
    "c =bool(f)\n",
    "c"
   ]
  },
  {
   "cell_type": "code",
   "execution_count": null,
   "id": "0d86c894",
   "metadata": {},
   "outputs": [],
   "source": [
    "#None is stored in one memory address in python and is always pointed to when being used\n",
    "a = None\n",
    "a is None"
   ]
  },
  {
   "cell_type": "code",
   "execution_count": null,
   "id": "350d1191",
   "metadata": {},
   "outputs": [],
   "source": [
    "#None stores default values and cannot be added to a numerical value but rather, to use it, you\n",
    "#can set an if that checks if c is not none first, if that is right, you can use it\n",
    "def add (a,b,c=None):\n",
    "    result = a + b\n",
    "    if c is not None:\n",
    "        result2 = a + b + c\n",
    "        print(result2)\n",
    "        #print(f\"{a:d} + {b:d} + {c:d}\")\n",
    "    else:\n",
    "        print(result)\n",
    "        "
   ]
  },
  {
   "cell_type": "code",
   "execution_count": null,
   "id": "8847903a",
   "metadata": {},
   "outputs": [],
   "source": [
    "add(1,2,3)"
   ]
  },
  {
   "cell_type": "code",
   "execution_count": null,
   "id": "85a015b1",
   "metadata": {},
   "outputs": [],
   "source": [
    "def subtract(a,b,c=None):\n",
    "    if c is not None:\n",
    "        result = a - b - c\n",
    "        print(f\"The difference is {result}\")\n",
    "    else:\n",
    "        result2 = a - b\n",
    "        print(result2)\n",
    "        "
   ]
  },
  {
   "cell_type": "code",
   "execution_count": null,
   "id": "9bfbf6c9",
   "metadata": {},
   "outputs": [],
   "source": [
    "subtract(1,2,3)"
   ]
  },
  {
   "cell_type": "markdown",
   "id": "300d855b",
   "metadata": {},
   "source": [
    "Date and Time"
   ]
  },
  {
   "cell_type": "code",
   "execution_count": null,
   "id": "6ef19909",
   "metadata": {},
   "outputs": [],
   "source": [
    "from datetime import datetime, time, date"
   ]
  },
  {
   "cell_type": "code",
   "execution_count": null,
   "id": "62fb9f04",
   "metadata": {},
   "outputs": [],
   "source": [
    "#showing the date and time\n",
    "dt = datetime(2011, 10, 29, 20, 30, 21)\n"
   ]
  },
  {
   "cell_type": "code",
   "execution_count": null,
   "id": "945c5480",
   "metadata": {},
   "outputs": [],
   "source": [
    "dt.second"
   ]
  },
  {
   "cell_type": "code",
   "execution_count": null,
   "id": "8ad9556c",
   "metadata": {},
   "outputs": [],
   "source": [
    "dt.year"
   ]
  },
  {
   "cell_type": "code",
   "execution_count": null,
   "id": "8ec3720e",
   "metadata": {},
   "outputs": [],
   "source": [
    "dt.month"
   ]
  },
  {
   "cell_type": "code",
   "execution_count": null,
   "id": "0230269f",
   "metadata": {},
   "outputs": [],
   "source": [
    "dt.hour"
   ]
  },
  {
   "cell_type": "code",
   "execution_count": null,
   "id": "b288f0df",
   "metadata": {},
   "outputs": [],
   "source": [
    "dt.date()"
   ]
  },
  {
   "cell_type": "code",
   "execution_count": null,
   "id": "1899142a",
   "metadata": {},
   "outputs": [],
   "source": [
    "dt.time()"
   ]
  },
  {
   "cell_type": "code",
   "execution_count": null,
   "id": "b1077b10",
   "metadata": {},
   "outputs": [],
   "source": [
    "#if you want to convert the datetime to a string for manipulation\n",
    "#you can use the strftime method\n",
    "dt.strftime(\"%Y-%m-%d %H:%M:%S\")"
   ]
  },
  {
   "cell_type": "code",
   "execution_count": null,
   "id": "2ba63888",
   "metadata": {},
   "outputs": [],
   "source": [
    "#to convert a string to the datetime, you can use strptime\n",
    "datetime.strptime(\"20091029\",\"%Y%m%d\")\n",
    "\n"
   ]
  },
  {
   "cell_type": "code",
   "execution_count": null,
   "id": "96635bc8",
   "metadata": {},
   "outputs": [],
   "source": [
    "dt"
   ]
  },
  {
   "cell_type": "code",
   "execution_count": null,
   "id": "ca2cac65",
   "metadata": {},
   "outputs": [],
   "source": [
    "#timedelta is the difference between 2 datetime objects\n",
    "#example\n",
    "dt2 = datetime(2011, 10, 31, 15, 22, 30)"
   ]
  },
  {
   "cell_type": "code",
   "execution_count": null,
   "id": "2714a392",
   "metadata": {},
   "outputs": [],
   "source": [
    "delta_time = dt2 - dt\n",
    "delta_time"
   ]
  },
  {
   "cell_type": "code",
   "execution_count": null,
   "id": "394bab66",
   "metadata": {},
   "outputs": [],
   "source": [
    "type(delta_time)"
   ]
  },
  {
   "cell_type": "code",
   "execution_count": null,
   "id": "2587f958",
   "metadata": {},
   "outputs": [],
   "source": [
    "newtime = dt + delta_time #this creates a new time and can come handy in scheduling\n",
    "newtime"
   ]
  },
  {
   "cell_type": "markdown",
   "id": "4051f44c",
   "metadata": {},
   "source": [
    "Control Flow"
   ]
  },
  {
   "cell_type": "code",
   "execution_count": null,
   "id": "d7dcf577",
   "metadata": {},
   "outputs": [],
   "source": [
    "#if statements are used to evaluate conditions and they can be if, else or elifs in between for many conditions\n",
    "l = input(\"Please enter a number: \")\n",
    "m = int(l)\n",
    "n = 5\n",
    "if m == n:\n",
    "    print('They are equal')\n",
    "elif m < n:\n",
    "    print(\"M is greater\")\n",
    "else:\n",
    "    print(\"N is greater\")"
   ]
  },
  {
   "cell_type": "code",
   "execution_count": null,
   "id": "3cf53d98",
   "metadata": {},
   "outputs": [],
   "source": [
    "#for loops\n",
    "p = [1,2,3,4,5,6,7]\n",
    "\n",
    "for i in p: #for value in collection is the syntax\n",
    "    i += i\n",
    "    \n",
    "print(i)"
   ]
  },
  {
   "cell_type": "code",
   "execution_count": null,
   "id": "fb3cb696",
   "metadata": {},
   "outputs": [],
   "source": [
    "#using the continue keyword to advance a for loop\n",
    "q = [1,2,3,None,4,5,6,None,8]\n",
    "\n",
    "for i in q:\n",
    "    if i is None:\n",
    "        continue\n",
    "    i+=i\n",
    "    print(i)"
   ]
  },
  {
   "cell_type": "code",
   "execution_count": null,
   "id": "735e6082",
   "metadata": {},
   "outputs": [],
   "source": [
    "for i in q:\n",
    "    if i is None:\n",
    "        break\n",
    "    i = i + i\n",
    "    print(i)"
   ]
  },
  {
   "cell_type": "code",
   "execution_count": null,
   "id": "52955c93",
   "metadata": {},
   "outputs": [],
   "source": [
    "# 2 for loops\n",
    "for a in range(3): #these are rows\n",
    "    for b in range(5): #these are columns\n",
    "        print(b, end=\"\")\n",
    "    print()\n"
   ]
  },
  {
   "cell_type": "code",
   "execution_count": null,
   "id": "fa0cdc9d",
   "metadata": {},
   "outputs": [],
   "source": [
    "#simple project to build a shape\n",
    "\n",
    "rows =int(input(\"Enter the number of rows: \"))\n",
    "columns =int(input(\"Enter the number of columns: \"))\n",
    "symbols = input(\"Enter a symbols: \")\n",
    "\n",
    "for a in range(rows):\n",
    "    for b in range(columns):\n",
    "        print(symbols, end=\"\")\n",
    "    print(\"\")"
   ]
  },
  {
   "cell_type": "code",
   "execution_count": null,
   "id": "53738f4d",
   "metadata": {},
   "outputs": [],
   "source": [
    "for i in range(4): #for this, the for loop will break when the value of j is greater than that is i\n",
    "    for j in range(4):\n",
    "        if j > i:\n",
    "            break\n",
    "        print((i,j))"
   ]
  },
  {
   "cell_type": "code",
   "execution_count": null,
   "id": "e5e44750",
   "metadata": {},
   "outputs": [],
   "source": [
    "#while loops offer a condition to be evaluated and it goes on until the condition becomes false"
   ]
  },
  {
   "cell_type": "code",
   "execution_count": null,
   "id": "1809ed2a",
   "metadata": {},
   "outputs": [],
   "source": [
    "#x = int(input(\"Enter a number: \"))\n",
    "#while x < 3:\n",
    " #   y= x + 1\n",
    "  #  print(y)\n",
    "    "
   ]
  },
  {
   "cell_type": "code",
   "execution_count": null,
   "id": "68314dc3",
   "metadata": {},
   "outputs": [],
   "source": [
    "x =256\n",
    "total = 0\n",
    "while x > 0:\n",
    "    if total > 500:\n",
    "        break\n",
    "    total += x #total = total + x (this will break after 256,128,64,32,16,8,4)\n",
    "    x = x // 2\n",
    "    print(x)"
   ]
  },
  {
   "cell_type": "code",
   "execution_count": null,
   "id": "4c831ff9",
   "metadata": {},
   "outputs": [],
   "source": [
    "#pass is for do nothing or ignore that fact that what is supposed to be there is no there\n",
    "x = int(input(\"Enter a value: \"))\n",
    "\n",
    "if (x < 100):\n",
    "    print(f\"the value is {x}\")\n",
    "elif (x > 100 and x < 1000):\n",
    "    print(\"The value is: \",x)\n",
    "else:\n",
    "    pass"
   ]
  },
  {
   "cell_type": "code",
   "execution_count": null,
   "id": "342728ad",
   "metadata": {},
   "outputs": [],
   "source": [
    "#using the range function\n",
    "range(10)"
   ]
  },
  {
   "cell_type": "code",
   "execution_count": null,
   "id": "63c31aa0",
   "metadata": {},
   "outputs": [],
   "source": [
    "list(range(10))"
   ]
  },
  {
   "cell_type": "code",
   "execution_count": null,
   "id": "e13c3fe4",
   "metadata": {},
   "outputs": [],
   "source": [
    "#adding start end step\n",
    "m = list(range(0,30,3))\n",
    "m"
   ]
  },
  {
   "cell_type": "code",
   "execution_count": null,
   "id": "8ab0c387",
   "metadata": {},
   "outputs": [],
   "source": [
    "n = list(range(10,0,-2))\n",
    "n"
   ]
  },
  {
   "cell_type": "code",
   "execution_count": null,
   "id": "ba1fef5c",
   "metadata": {},
   "outputs": [],
   "source": [
    "#example\n",
    "seq = list(range(1,6))\n",
    "\n",
    "for i in range(len(seq)):\n",
    "    print(f\"Position: {i}, Number: {seq[i]}\")"
   ]
  },
  {
   "cell_type": "code",
   "execution_count": null,
   "id": "6d4efb8f",
   "metadata": {},
   "outputs": [],
   "source": [
    "#example 2\n",
    "total = 0\n",
    "for i in range(100000): #you can also use range(100_000) this is not any different and is done to improve readability\n",
    "    if i % 3 == 0 or i % 5 == 0:\n",
    "        total = total + i\n",
    "\n",
    "print(total)"
   ]
  },
  {
   "cell_type": "markdown",
   "id": "af064b29",
   "metadata": {},
   "source": [
    "#Chapter 3"
   ]
  },
  {
   "cell_type": "code",
   "execution_count": null,
   "id": "9f7d359d",
   "metadata": {},
   "outputs": [],
   "source": [
    "#working with tuples. these are immutable python sequences (they can be iteraterated upon) and they are declared with () or nothing. Other data types\n",
    "#can also be converted into tuples by using the keyword tuple as shown below\n",
    "\n",
    "tu = (1,2,3,4) #using ()\n",
    "type(tu)"
   ]
  },
  {
   "cell_type": "code",
   "execution_count": 15,
   "id": "0f922151",
   "metadata": {},
   "outputs": [
    {
     "data": {
      "text/plain": [
       "tuple"
      ]
     },
     "execution_count": 15,
     "metadata": {},
     "output_type": "execute_result"
    }
   ],
   "source": [
    "tp = 1,2,3,4 #using nothing\n",
    "type(tp)"
   ]
  },
  {
   "cell_type": "code",
   "execution_count": 16,
   "id": "676740f5",
   "metadata": {},
   "outputs": [
    {
     "data": {
      "text/plain": [
       "('S', 't', 'r', 'i', 'n', 'g')"
      ]
     },
     "execution_count": 16,
     "metadata": {},
     "output_type": "execute_result"
    }
   ],
   "source": [
    "x = \"String\"\n",
    "y = tuple(x) #converting\n",
    "y"
   ]
  },
  {
   "cell_type": "code",
   "execution_count": 17,
   "id": "206a21db",
   "metadata": {},
   "outputs": [
    {
     "data": {
      "text/plain": [
       "'r'"
      ]
     },
     "execution_count": 17,
     "metadata": {},
     "output_type": "execute_result"
    }
   ],
   "source": [
    "#accessing values in a tuple is done with []\n",
    "y[2]"
   ]
  },
  {
   "cell_type": "code",
   "execution_count": 18,
   "id": "e846c702",
   "metadata": {},
   "outputs": [
    {
     "data": {
      "text/plain": [
       "((1, 2, 3), (4, 5, 6))"
      ]
     },
     "execution_count": 18,
     "metadata": {},
     "output_type": "execute_result"
    }
   ],
   "source": [
    "#it is advisable to use () when using other versions of tuples such as nested tuples\n",
    "z = (1,2,3),(4,5,6)\n",
    "z"
   ]
  },
  {
   "cell_type": "code",
   "execution_count": 19,
   "id": "a0202720",
   "metadata": {},
   "outputs": [
    {
     "data": {
      "text/plain": [
       "(4, 5, 6)"
      ]
     },
     "execution_count": 19,
     "metadata": {},
     "output_type": "execute_result"
    }
   ],
   "source": [
    "z[1]"
   ]
  },
  {
   "cell_type": "code",
   "execution_count": 20,
   "id": "2b7ee10a",
   "metadata": {},
   "outputs": [
    {
     "data": {
      "text/plain": [
       "5"
      ]
     },
     "execution_count": 20,
     "metadata": {},
     "output_type": "execute_result"
    }
   ],
   "source": [
    "z[1][1]"
   ]
  },
  {
   "cell_type": "code",
   "execution_count": 21,
   "id": "9f25a698",
   "metadata": {},
   "outputs": [
    {
     "data": {
      "text/plain": [
       "tuple"
      ]
     },
     "execution_count": 21,
     "metadata": {},
     "output_type": "execute_result"
    }
   ],
   "source": [
    "#you cannot chnage the contents of a tuple but if the tuple has a list with in (I totally never thought this was possible) the tuple, you can adjust the contents of the list\n",
    "f = ('foo',[1,2,3],'d')\n",
    "type(f)"
   ]
  },
  {
   "cell_type": "code",
   "execution_count": 22,
   "id": "74ebb5b4",
   "metadata": {},
   "outputs": [
    {
     "ename": "AttributeError",
     "evalue": "'str' object has no attribute 'append'",
     "output_type": "error",
     "traceback": [
      "\u001b[0;31m---------------------------------------------------------------------------\u001b[0m",
      "\u001b[0;31mAttributeError\u001b[0m                            Traceback (most recent call last)",
      "Cell \u001b[0;32mIn[22], line 1\u001b[0m\n\u001b[0;32m----> 1\u001b[0m f[\u001b[38;5;241m0\u001b[39m]\u001b[38;5;241m.\u001b[39mappend(\u001b[38;5;124m'\u001b[39m\u001b[38;5;124mx\u001b[39m\u001b[38;5;124m'\u001b[39m)\n",
      "\u001b[0;31mAttributeError\u001b[0m: 'str' object has no attribute 'append'"
     ]
    }
   ],
   "source": [
    "f[0].append('x')"
   ]
  },
  {
   "cell_type": "code",
   "execution_count": null,
   "id": "f3ec9d5a",
   "metadata": {},
   "outputs": [],
   "source": [
    "f[1].append(4)"
   ]
  },
  {
   "cell_type": "code",
   "execution_count": null,
   "id": "4c26ce4d",
   "metadata": {},
   "outputs": [],
   "source": [
    "f"
   ]
  },
  {
   "cell_type": "code",
   "execution_count": null,
   "id": "0bd5a22b",
   "metadata": {},
   "outputs": [],
   "source": [
    "f[1] = 2"
   ]
  },
  {
   "cell_type": "code",
   "execution_count": null,
   "id": "9bf29aa9",
   "metadata": {},
   "outputs": [],
   "source": [
    "#the error above shows that lists are not mutable"
   ]
  },
  {
   "cell_type": "code",
   "execution_count": null,
   "id": "529c4466",
   "metadata": {},
   "outputs": [],
   "source": [
    "#you can join tuples together in a process called concatenation\n",
    "m = (1,2,3)\n",
    "n = ('a','b','c')\n",
    "p = m + n\n",
    "p"
   ]
  },
  {
   "cell_type": "code",
   "execution_count": null,
   "id": "d4fc4881",
   "metadata": {},
   "outputs": [],
   "source": [
    "q = m * 4\n",
    "q"
   ]
  },
  {
   "cell_type": "code",
   "execution_count": null,
   "id": "a7357164",
   "metadata": {},
   "outputs": [],
   "source": [
    "#unpakcing tuples. this means giving values inside a tuple variable names\n",
    "tl = (1,2,3,4)\n",
    "a,b,c,d = tl\n",
    "a"
   ]
  },
  {
   "cell_type": "code",
   "execution_count": null,
   "id": "6a84fe25",
   "metadata": {},
   "outputs": [],
   "source": [
    "c"
   ]
  },
  {
   "cell_type": "code",
   "execution_count": null,
   "id": "802d89fa",
   "metadata": {},
   "outputs": [],
   "source": [
    "#swapping names can be done with\n",
    "a,b,c = b,a,c"
   ]
  },
  {
   "cell_type": "code",
   "execution_count": null,
   "id": "1e3072ff",
   "metadata": {},
   "outputs": [],
   "source": [
    "b #b = 1, c = 3, a =2"
   ]
  },
  {
   "cell_type": "code",
   "execution_count": null,
   "id": "323954c6",
   "metadata": {},
   "outputs": [],
   "source": [
    "a,b,c = c,a,b"
   ]
  },
  {
   "cell_type": "code",
   "execution_count": null,
   "id": "8f81ff92",
   "metadata": {},
   "outputs": [],
   "source": [
    "c"
   ]
  },
  {
   "cell_type": "code",
   "execution_count": null,
   "id": "e544f4c8",
   "metadata": {},
   "outputs": [],
   "source": [
    "a"
   ]
  },
  {
   "cell_type": "code",
   "execution_count": null,
   "id": "21cf993b",
   "metadata": {},
   "outputs": [],
   "source": [
    "b"
   ]
  },
  {
   "cell_type": "code",
   "execution_count": null,
   "id": "1b68e8da",
   "metadata": {},
   "outputs": [],
   "source": [
    "#to iterate over a sequence you can use the unpacking concept\n",
    "seq = [(1,2,3),(4,5,6),(7,8,9)]\n",
    "for a,b,c in seq:\n",
    "    print(f\"a = {a} b = {b} c = {c}\")"
   ]
  },
  {
   "cell_type": "code",
   "execution_count": null,
   "id": "656a4b74",
   "metadata": {},
   "outputs": [],
   "source": [
    "#if you want to get some values off a tuple and then view the rest\n",
    "#you can use the rest keyword\n",
    "\n",
    "values = (1,2,3,4,5,6,7,8,8,9)\n",
    "values"
   ]
  },
  {
   "cell_type": "code",
   "execution_count": null,
   "id": "b55aef93",
   "metadata": {},
   "outputs": [],
   "source": [
    "a,b,c,d, *rest = values\n",
    "m = rest\n",
    "m"
   ]
  },
  {
   "cell_type": "code",
   "execution_count": null,
   "id": "7ac02a7b",
   "metadata": {},
   "outputs": [],
   "source": [
    "#you can also use *_\n",
    "values"
   ]
  },
  {
   "cell_type": "code",
   "execution_count": null,
   "id": "f605a900",
   "metadata": {},
   "outputs": [],
   "source": [
    "l,m,n,*_ = values"
   ]
  },
  {
   "cell_type": "code",
   "execution_count": null,
   "id": "c01c6302",
   "metadata": {},
   "outputs": [],
   "source": [
    "m = _"
   ]
  },
  {
   "cell_type": "code",
   "execution_count": null,
   "id": "6403c95d",
   "metadata": {},
   "outputs": [],
   "source": [
    "m"
   ]
  },
  {
   "cell_type": "code",
   "execution_count": null,
   "id": "be6ec99b",
   "metadata": {},
   "outputs": [],
   "source": [
    "#this *_ or *rest is used to discard unwanted values"
   ]
  },
  {
   "cell_type": "code",
   "execution_count": null,
   "id": "bc32e88e",
   "metadata": {},
   "outputs": [],
   "source": [
    "#methods for tuples (methods are the same as functions but in OOP) \n",
    "#the count method can be used on lists\n",
    "\n",
    "a = (2,4,5,6,7,8,8,6,7,9,0)\n",
    "a.count(7) #this counts the number of7s in the tuple "
   ]
  },
  {
   "cell_type": "code",
   "execution_count": null,
   "id": "c74a01e3",
   "metadata": {},
   "outputs": [],
   "source": [
    "a.append(10)\n",
    "a #this shows that lists do not allow the append since they are immutable"
   ]
  },
  {
   "cell_type": "code",
   "execution_count": null,
   "id": "eeb60d69",
   "metadata": {},
   "outputs": [],
   "source": [
    "#lists\n",
    "#these are mutable and can be defined using two ways which include \n",
    "#use of square brackets [] or list word\n",
    "a = [1,2,3,4]\n",
    "b = (5,6,7,8)\n"
   ]
  },
  {
   "cell_type": "code",
   "execution_count": null,
   "id": "9374cfa9",
   "metadata": {},
   "outputs": [],
   "source": [
    "c = list(b)\n",
    "c"
   ]
  },
  {
   "cell_type": "code",
   "execution_count": null,
   "id": "60699047",
   "metadata": {},
   "outputs": [],
   "source": [
    "c[3] = 9\n",
    "c"
   ]
  },
  {
   "cell_type": "code",
   "execution_count": null,
   "id": "5efa88c4",
   "metadata": {},
   "outputs": [],
   "source": [
    "c.append(12)\n",
    "c"
   ]
  },
  {
   "cell_type": "code",
   "execution_count": null,
   "id": "42fb9d08",
   "metadata": {},
   "outputs": [],
   "source": [
    "gen = range(10)"
   ]
  },
  {
   "cell_type": "code",
   "execution_count": null,
   "id": "152a32a5",
   "metadata": {},
   "outputs": [],
   "source": [
    "gen"
   ]
  },
  {
   "cell_type": "code",
   "execution_count": null,
   "id": "46bbf9f7",
   "metadata": {},
   "outputs": [],
   "source": [
    "list(gen) #this is used to show the contents in a range"
   ]
  },
  {
   "cell_type": "code",
   "execution_count": null,
   "id": "c23d485e",
   "metadata": {},
   "outputs": [],
   "source": [
    "#to add values to a specific part of a string, you use the \n",
    "#insert function along with the position\n",
    "#this is an expensive task (resource intensive on the side of the PC)\n",
    "c.insert(2,13) #first position then value you want to add. This adds it to a position and does not remove that value that was in that postion but insead pushes the value to the next and add the new one\n",
    "c "
   ]
  },
  {
   "cell_type": "code",
   "execution_count": null,
   "id": "04c3e452",
   "metadata": {},
   "outputs": [],
   "source": [
    "c.append(6)\n",
    "c"
   ]
  },
  {
   "cell_type": "code",
   "execution_count": null,
   "id": "5a29e0a5",
   "metadata": {},
   "outputs": [],
   "source": [
    "#deleting values from a list can be done using pop or remove\n",
    "c.pop(6) #this removes the value in position index 6 which is 6.\n",
    "c"
   ]
  },
  {
   "cell_type": "code",
   "execution_count": null,
   "id": "ecc4c71c",
   "metadata": {},
   "outputs": [],
   "source": [
    "c.remove(9) #this removes a particular value based on its first \n",
    "#occurence in the list"
   ]
  },
  {
   "cell_type": "code",
   "execution_count": null,
   "id": "86599199",
   "metadata": {},
   "outputs": [],
   "source": [
    "c"
   ]
  },
  {
   "cell_type": "code",
   "execution_count": null,
   "id": "95e54b9e",
   "metadata": {},
   "outputs": [],
   "source": [
    "#you can check if a list contains certain values or not by \n",
    "#using the in or not in keywords which return a boolean value\n",
    "#if the value is there or not\n",
    "5 in c"
   ]
  },
  {
   "cell_type": "code",
   "execution_count": null,
   "id": "e00ce2cd",
   "metadata": {},
   "outputs": [],
   "source": [
    "5 not in c"
   ]
  },
  {
   "cell_type": "code",
   "execution_count": null,
   "id": "a467bfa5",
   "metadata": {},
   "outputs": [],
   "source": [
    "#this takes a longer timein lists than sets or dictionaries becauses the values \n",
    "#of the list are scanned to varify existence. "
   ]
  },
  {
   "cell_type": "code",
   "execution_count": null,
   "id": "99dbfc19",
   "metadata": {},
   "outputs": [],
   "source": [
    "#concatenation\n",
    "a = [1,2,3]\n",
    "b = [\"a\",\"b\",\"c\"]\n",
    "c = a + b\n",
    "c"
   ]
  },
  {
   "cell_type": "code",
   "execution_count": null,
   "id": "44087042",
   "metadata": {},
   "outputs": [],
   "source": [
    "#you can also use the exent function to add values\n",
    "c.extend([\"d\",4,5,6])\n",
    "c"
   ]
  },
  {
   "cell_type": "code",
   "execution_count": null,
   "id": "25d1d593",
   "metadata": {},
   "outputs": [],
   "source": [
    "#The concatenation method is more expensive on the side of the PC because a whole new variable has to be created \n",
    "#the extend function however just adds to the existing list and would \n",
    "#work well for large lists\n",
    "\n",
    "list_of_lists = ['chunk','load','weight']\n",
    "\n",
    "everything = []\n",
    "for i in list_of_lists:\n",
    "    everything.extend(i)\n",
    "everything\n",
    "#this for picks all values from list of lists and adds them to everything"
   ]
  },
  {
   "cell_type": "code",
   "execution_count": null,
   "id": "10fc7fd8",
   "metadata": {},
   "outputs": [],
   "source": [
    "listing = [[1,2],[3,4]]\n",
    "#listing2 = [12,24,36,47]\n",
    "type(listing)\n"
   ]
  },
  {
   "cell_type": "code",
   "execution_count": null,
   "id": "08faa23a",
   "metadata": {},
   "outputs": [],
   "source": [
    "thing = []\n",
    "for i in listing:\n",
    "    thing = thing + i #this will bring an error because the words being iterated over come as strings or integers which\n",
    "    #cannot be concatenated to a list. you can however put a list in the list and things will work\n",
    "thing"
   ]
  },
  {
   "cell_type": "code",
   "execution_count": null,
   "id": "0cf28c4a",
   "metadata": {},
   "outputs": [],
   "source": [
    "list_of_lists"
   ]
  },
  {
   "cell_type": "code",
   "execution_count": null,
   "id": "fe520d70",
   "metadata": {},
   "outputs": [],
   "source": [
    "#sorting lists\n",
    "#to sort is to put in order based on certain criteria\n",
    "thing"
   ]
  },
  {
   "cell_type": "code",
   "execution_count": null,
   "id": "e2d28a0a",
   "metadata": {},
   "outputs": [],
   "source": [
    "things = [5,6,2,3,8,9,12,65,43,67,8,9]\n",
    "things.sort()\n",
    "things"
   ]
  },
  {
   "cell_type": "code",
   "execution_count": null,
   "id": "e578b6d9",
   "metadata": {},
   "outputs": [],
   "source": [
    "f = ['cow','goat','rabbit','rat']\n",
    "f.sort(key=len) #this sorts based on the length\n",
    "f"
   ]
  },
  {
   "cell_type": "code",
   "execution_count": null,
   "id": "3d286784",
   "metadata": {},
   "outputs": [],
   "source": [
    "#slicing lists\n",
    "#this is done using indexes and can be done in a number a ways\n",
    "#the syntax is [inclusive:exclusive]\n",
    "m = [3,4,5,2,1,6,7,8]\n",
    "m[2:5] #this includes the value of postion 2 but exludes that of position 5\n"
   ]
  },
  {
   "cell_type": "code",
   "execution_count": null,
   "id": "638ac987",
   "metadata": {},
   "outputs": [],
   "source": [
    "#you can also do slicing and assignment where some values are removed and \n",
    "#others are added to the list\n",
    "m[2:5] = [4,7,0]\n",
    "m"
   ]
  },
  {
   "cell_type": "code",
   "execution_count": null,
   "id": "b652a2d2",
   "metadata": {},
   "outputs": [],
   "source": [
    "#you can also customise to pick only values at the ends with\n",
    "m[3:]"
   ]
  },
  {
   "cell_type": "code",
   "execution_count": null,
   "id": "f10a05a7",
   "metadata": {},
   "outputs": [],
   "source": [
    "m[:5]"
   ]
  },
  {
   "cell_type": "code",
   "execution_count": null,
   "id": "0cb66dfb",
   "metadata": {},
   "outputs": [],
   "source": [
    "m[:] #this picks all values"
   ]
  },
  {
   "cell_type": "code",
   "execution_count": null,
   "id": "30e50e75",
   "metadata": {},
   "outputs": [],
   "source": [
    "#you can also use negatives\n",
    "m[-4:] #this picks the last 4 values"
   ]
  },
  {
   "cell_type": "code",
   "execution_count": null,
   "id": "7bc2553c",
   "metadata": {},
   "outputs": [],
   "source": [
    "m[-6:-2] #this first goes 6 times to the back and then starts again 2 times from the back and \n",
    "#if there are remianing values, it prints those"
   ]
  },
  {
   "cell_type": "code",
   "execution_count": null,
   "id": "b6aacc1f",
   "metadata": {},
   "outputs": [],
   "source": [
    "#you can also add a step in the mix\n",
    "m[1:6:2] #when this is done, the slicing skips by 2 when printing \n",
    "#this upholds the start:stop:step method"
   ]
  },
  {
   "cell_type": "code",
   "execution_count": null,
   "id": "7caac6c6",
   "metadata": {},
   "outputs": [],
   "source": [
    "m[::2]"
   ]
  },
  {
   "cell_type": "code",
   "execution_count": null,
   "id": "28b682c0",
   "metadata": {},
   "outputs": [],
   "source": [
    "m[::3]"
   ]
  },
  {
   "cell_type": "code",
   "execution_count": null,
   "id": "f6e05843",
   "metadata": {},
   "outputs": [],
   "source": [
    "#you can also reverse a whole tuple or list with\n",
    "m[::-1]\n",
    "#this steps from the back and prints all values\n"
   ]
  },
  {
   "cell_type": "code",
   "execution_count": null,
   "id": "7e0bf416",
   "metadata": {},
   "outputs": [],
   "source": [
    "#Dictionaries"
   ]
  },
  {
   "cell_type": "code",
   "execution_count": null,
   "id": "d9f4eece",
   "metadata": {},
   "outputs": [],
   "source": [
    "#the most common way of creating them is using curly brackets {} the key and value are separed using a full colon : \n",
    "#the key is used to access the value and do lots of things"
   ]
  },
  {
   "cell_type": "code",
   "execution_count": null,
   "id": "84e5bfd9",
   "metadata": {},
   "outputs": [],
   "source": [
    "d0 = {} \n",
    "d ={'a':1, 'b':2, 'c':3}\n",
    "d"
   ]
  },
  {
   "cell_type": "code",
   "execution_count": null,
   "id": "b3515e27",
   "metadata": {},
   "outputs": [],
   "source": [
    "d1={'a':'some value','b':[1,2,3,4]}\n",
    "d1"
   ]
  },
  {
   "cell_type": "code",
   "execution_count": null,
   "id": "7eaa2f77",
   "metadata": {},
   "outputs": [],
   "source": [
    "type(d1)"
   ]
  },
  {
   "cell_type": "code",
   "execution_count": null,
   "id": "15c1b347",
   "metadata": {},
   "outputs": [],
   "source": [
    "#adding values can be done by choose a key and its value then add it\n",
    "d['d']=3"
   ]
  },
  {
   "cell_type": "code",
   "execution_count": null,
   "id": "eaed9bdd",
   "metadata": {},
   "outputs": [],
   "source": [
    "d"
   ]
  },
  {
   "cell_type": "code",
   "execution_count": null,
   "id": "d935abeb",
   "metadata": {},
   "outputs": [],
   "source": [
    "d['d']=4 #adding a value to the dictionary\n",
    "d"
   ]
  },
  {
   "cell_type": "code",
   "execution_count": null,
   "id": "8bd00baf",
   "metadata": {},
   "outputs": [],
   "source": [
    "d1['b'] #accessing a value in a dictionary"
   ]
  },
  {
   "cell_type": "code",
   "execution_count": null,
   "id": "468ea566",
   "metadata": {},
   "outputs": [],
   "source": [
    "d1[7]='seven'\n",
    "d1"
   ]
  },
  {
   "cell_type": "code",
   "execution_count": null,
   "id": "6daf49bd",
   "metadata": {},
   "outputs": [],
   "source": [
    "d1[7] #if you want to access a particular value in a dictionary using its key,\n",
    "#varify if the key is and int or an str. if it is an str, use '' if it is an int just put it there as shown above"
   ]
  },
  {
   "cell_type": "code",
   "execution_count": null,
   "id": "1707e51b",
   "metadata": {},
   "outputs": [],
   "source": [
    "7 in d1 #checking if there is a value"
   ]
  },
  {
   "cell_type": "code",
   "execution_count": null,
   "id": "2422fee5",
   "metadata": {},
   "outputs": [],
   "source": [
    "d1"
   ]
  },
  {
   "cell_type": "code",
   "execution_count": null,
   "id": "f1732170",
   "metadata": {},
   "outputs": [],
   "source": [
    "#deleting values in a dictionary\n",
    "del d1['a']\n",
    "d1"
   ]
  },
  {
   "cell_type": "code",
   "execution_count": null,
   "id": "8eb23806",
   "metadata": {},
   "outputs": [],
   "source": [
    "d1[6]='six'\n",
    "d1"
   ]
  },
  {
   "cell_type": "code",
   "execution_count": null,
   "id": "9743441b",
   "metadata": {},
   "outputs": [],
   "source": [
    "d1.pop(6) #this removes the value of 6 and then shows you what it has removed\n",
    "#below but the del just removes the value. pop uses () not [] as in del for delete"
   ]
  },
  {
   "cell_type": "code",
   "execution_count": null,
   "id": "ad3da300",
   "metadata": {},
   "outputs": [],
   "source": [
    "d1[8] = 'eight'"
   ]
  },
  {
   "cell_type": "code",
   "execution_count": null,
   "id": "4c9a56b9",
   "metadata": {},
   "outputs": [],
   "source": [
    "d1"
   ]
  },
  {
   "cell_type": "code",
   "execution_count": null,
   "id": "5b6451ce",
   "metadata": {},
   "outputs": [],
   "source": [
    "del d1[8]"
   ]
  },
  {
   "cell_type": "code",
   "execution_count": null,
   "id": "81995eda",
   "metadata": {},
   "outputs": [],
   "source": [
    "d1"
   ]
  },
  {
   "cell_type": "code",
   "execution_count": null,
   "id": "6fd8c8a1",
   "metadata": {},
   "outputs": [],
   "source": [
    "sept = d1.pop(7)"
   ]
  },
  {
   "cell_type": "code",
   "execution_count": null,
   "id": "ac68bcc0",
   "metadata": {},
   "outputs": [],
   "source": [
    "sept"
   ]
  },
  {
   "cell_type": "code",
   "execution_count": null,
   "id": "16eced5c",
   "metadata": {},
   "outputs": [],
   "source": [
    "#if you want to access the keys or values that have been put into a list individually,\n",
    "#you can use the methods called keys() and values() these retrurn the keys or values entered with in\n",
    "#a dictionary in the same order in which they were inserted and the output is not form of a list\n",
    "\n",
    "m = {'a':1,'b':2,'c':3,'d':4}\n",
    "m\n",
    "#the explanation in the book states that the methods keys() and values() return iterators of the dictionary's\n",
    "#keys and values respectively. this simply means that the method with all you to get the names of those keys in\n",
    "#order in which they are stored in the dictinary and you can loop over them or convert them into a list"
   ]
  },
  {
   "cell_type": "code",
   "execution_count": null,
   "id": "07c56e93",
   "metadata": {},
   "outputs": [],
   "source": [
    "m.keys() #this gets the keys from the dictionary in the order of insertion"
   ]
  },
  {
   "cell_type": "code",
   "execution_count": null,
   "id": "02e6717f",
   "metadata": {},
   "outputs": [],
   "source": [
    "list(m.keys()) #this brings it out as a list"
   ]
  },
  {
   "cell_type": "code",
   "execution_count": null,
   "id": "6280b90b",
   "metadata": {},
   "outputs": [],
   "source": [
    "#the same can be done to get the values\n",
    "m.values()"
   ]
  },
  {
   "cell_type": "code",
   "execution_count": null,
   "id": "da774e81",
   "metadata": {},
   "outputs": [],
   "source": [
    "list(m.values())"
   ]
  },
  {
   "cell_type": "code",
   "execution_count": null,
   "id": "b819e609",
   "metadata": {},
   "outputs": [],
   "source": [
    "#the items method allows you to get both the keys and values\n",
    "#but stores them as 2 tuples. one is the key, another is the value.\n",
    "#these can be stored in a list but are initially just dictionary items (dict_items)\n",
    "m.items()"
   ]
  },
  {
   "cell_type": "code",
   "execution_count": null,
   "id": "93970d38",
   "metadata": {},
   "outputs": [],
   "source": [
    "list(m.items())"
   ]
  },
  {
   "cell_type": "code",
   "execution_count": null,
   "id": "a14dac4f",
   "metadata": {},
   "outputs": [],
   "source": [
    "#adding many values to a dictionary can be done with the update() method\n",
    "m.update({'e':5,'f':6,'g':7})\n",
    "m"
   ]
  },
  {
   "cell_type": "code",
   "execution_count": null,
   "id": "040f21f4",
   "metadata": {},
   "outputs": [],
   "source": [
    "#when you use the update method in a dictionary and you add keys that already have values,\n",
    "#the values of those keys are discarded and the new ones are added\n",
    "m.update({'g':8})"
   ]
  },
  {
   "cell_type": "code",
   "execution_count": null,
   "id": "ba8405e7",
   "metadata": {},
   "outputs": [],
   "source": [
    "m"
   ]
  },
  {
   "cell_type": "code",
   "execution_count": null,
   "id": "b275772e",
   "metadata": {},
   "outputs": [],
   "source": [
    "m['h']=9 #lest we forget that adding values is this way"
   ]
  },
  {
   "cell_type": "code",
   "execution_count": null,
   "id": "8d1733f2",
   "metadata": {},
   "outputs": [],
   "source": [
    "m"
   ]
  },
  {
   "cell_type": "code",
   "execution_count": null,
   "id": "1653f2e4",
   "metadata": {},
   "outputs": [],
   "source": [
    "#trials\n",
    "a = {'m':0}\n",
    "b = {'n':1}\n",
    "c = a + b #you cannot concatenate dictionaries like this"
   ]
  },
  {
   "cell_type": "code",
   "execution_count": null,
   "id": "92c02d5d",
   "metadata": {},
   "outputs": [],
   "source": [
    "#you can use \n",
    "c = {**a , **b}\n",
    "c"
   ]
  },
  {
   "cell_type": "code",
   "execution_count": null,
   "id": "5b226387",
   "metadata": {},
   "outputs": [],
   "source": [
    "#or \n",
    "a.update(b)"
   ]
  },
  {
   "cell_type": "code",
   "execution_count": null,
   "id": "835d0dbe",
   "metadata": {},
   "outputs": [],
   "source": [
    "a"
   ]
  },
  {
   "cell_type": "code",
   "execution_count": null,
   "id": "26f2fb23",
   "metadata": {},
   "outputs": [],
   "source": [
    "#creating dictionaries can be done from two tuples\n",
    "a = (1,2,3,4)\n",
    "b = ('a','b','c','d')\n",
    "c = zip(a,b)"
   ]
  },
  {
   "cell_type": "code",
   "execution_count": null,
   "id": "1dda1658",
   "metadata": {},
   "outputs": [],
   "source": [
    "c"
   ]
  },
  {
   "cell_type": "code",
   "execution_count": null,
   "id": "5f778e46",
   "metadata": {},
   "outputs": [],
   "source": [
    "d = {}\n",
    "for key, value in c:\n",
    "    d[key] = value"
   ]
  },
  {
   "cell_type": "code",
   "execution_count": null,
   "id": "2d5541b9",
   "metadata": {},
   "outputs": [],
   "source": [
    "d"
   ]
  },
  {
   "cell_type": "code",
   "execution_count": null,
   "id": "255ced05",
   "metadata": {},
   "outputs": [],
   "source": [
    "type(d)"
   ]
  },
  {
   "cell_type": "code",
   "execution_count": null,
   "id": "e7421f5b",
   "metadata": {},
   "outputs": [],
   "source": [
    "#this above process shows how to create a dictionary from two tuples while using the zip() method \n",
    "#which combines 2 or more iterables"
   ]
  },
  {
   "cell_type": "code",
   "execution_count": null,
   "id": "994e97b9",
   "metadata": {},
   "outputs": [],
   "source": [
    "#example 2\n",
    "e = zip([1,2,3,4],['a','b','c','d','e'])\n"
   ]
  },
  {
   "cell_type": "code",
   "execution_count": null,
   "id": "95e56bb5",
   "metadata": {},
   "outputs": [],
   "source": [
    "f = {}\n",
    "for key, value in e:\n",
    "    f[key] = value"
   ]
  },
  {
   "cell_type": "code",
   "execution_count": null,
   "id": "5c847796",
   "metadata": {},
   "outputs": [],
   "source": [
    "f"
   ]
  },
  {
   "cell_type": "code",
   "execution_count": null,
   "id": "68680cb0",
   "metadata": {},
   "outputs": [],
   "source": [
    "#as we can see, the last value was not added for it lacked a key"
   ]
  },
  {
   "cell_type": "code",
   "execution_count": null,
   "id": "227e98eb",
   "metadata": {},
   "outputs": [],
   "source": [
    "g = zip([1,2,3,4,5],['a','b','c','d'])\n",
    "f = {}\n",
    "for key, value in g:\n",
    "    f[key] = value"
   ]
  },
  {
   "cell_type": "code",
   "execution_count": null,
   "id": "6e134d9a",
   "metadata": {},
   "outputs": [],
   "source": [
    "f"
   ]
  },
  {
   "cell_type": "code",
   "execution_count": null,
   "id": "698ee9d8",
   "metadata": {},
   "outputs": [],
   "source": [
    "#the value with no corresponding key or value is left out"
   ]
  },
  {
   "cell_type": "code",
   "execution_count": null,
   "id": "b6aa886e",
   "metadata": {},
   "outputs": [],
   "source": [
    "#you can also use an easier way\n",
    "#creating dictionaries can be done from two tuples\n",
    "a = (1,2,3,4)\n",
    "b = ('a','b','c','d')\n",
    "c = zip(a,b)\n",
    "d = dict(c)\n",
    "d"
   ]
  },
  {
   "cell_type": "code",
   "execution_count": null,
   "id": "52e2885a",
   "metadata": {},
   "outputs": [],
   "source": [
    "#As a method of preventing errors, python allows for default values\n",
    "#example below\n",
    "m = {'a':'apple','b':'banana'}\n",
    "m.get('x', 'nothing')"
   ]
  },
  {
   "cell_type": "code",
   "execution_count": null,
   "id": "a471c3b4",
   "metadata": {},
   "outputs": [],
   "source": [
    "m"
   ]
  },
  {
   "cell_type": "code",
   "execution_count": null,
   "id": "81c38250",
   "metadata": {},
   "outputs": [],
   "source": [
    "m['a']"
   ]
  },
  {
   "cell_type": "code",
   "execution_count": null,
   "id": "92149691",
   "metadata": {},
   "outputs": [],
   "source": [
    "m['x']"
   ]
  },
  {
   "cell_type": "code",
   "execution_count": null,
   "id": "056dc97c",
   "metadata": {},
   "outputs": [],
   "source": [
    "default =m.get('x', 'nothing')\n",
    "default1 =m.get('a', 'nothing')"
   ]
  },
  {
   "cell_type": "code",
   "execution_count": null,
   "id": "f42a64c1",
   "metadata": {},
   "outputs": [],
   "source": [
    "#this method of default values applies when you want to get a value from a dictionary, if the value does not\n",
    "#exist, you however have to call the default,\n",
    "default1"
   ]
  },
  {
   "cell_type": "code",
   "execution_count": null,
   "id": "d86761f9",
   "metadata": {},
   "outputs": [],
   "source": [
    "#the default value does not run unless the key is not present in the \n",
    "#dictionary and that is the association"
   ]
  },
  {
   "cell_type": "code",
   "execution_count": null,
   "id": "33722566",
   "metadata": {},
   "outputs": [],
   "source": [
    "#categorizing values from a list\n",
    "words = ['apple','bat','bar','atom','book']\n",
    "by_letter = {}\n",
    "\n",
    "for word in words:\n",
    "    letter = word[0]\n",
    "    if letter not in by_letter:\n",
    "        by_letter[letter] = [word]\n",
    "    else:\n",
    "        by_letter[letter].append(word)"
   ]
  },
  {
   "cell_type": "code",
   "execution_count": null,
   "id": "389131e4",
   "metadata": {},
   "outputs": [],
   "source": [
    "by_letter"
   ]
  },
  {
   "cell_type": "code",
   "execution_count": null,
   "id": "c8f1b207",
   "metadata": {},
   "outputs": [],
   "source": [
    "#the function above involves first of all converting a list in a dictionary then\n",
    "#the keys of these words are their first letters. words with the same first letter are in the same key\n",
    "fruits = ['banana','apple','berry','beat root','avocado']\n",
    "arranged = {}\n",
    "\n",
    "for word in fruits:\n",
    "    fruit = word[0]\n",
    "    if fruit not in arranged:\n",
    "        arranged[fruit] = [word]\n",
    "    else:\n",
    "        arranged[fruit].append(word)\n"
   ]
  },
  {
   "cell_type": "code",
   "execution_count": null,
   "id": "deee7103",
   "metadata": {},
   "outputs": [],
   "source": [
    "arranged"
   ]
  },
  {
   "cell_type": "code",
   "execution_count": null,
   "id": "fc8a30a2",
   "metadata": {},
   "outputs": [],
   "source": [
    "#above is the result and the letter used first depends on the arrangement of the \n",
    "#words in the list"
   ]
  },
  {
   "cell_type": "code",
   "execution_count": null,
   "id": "5157cae4",
   "metadata": {},
   "outputs": [],
   "source": [
    "arrange = {}\n",
    "for word in fruits:\n",
    "    fruit = word[0]\n",
    "    arrange.setdefault(fruit, []).append(word)"
   ]
  },
  {
   "cell_type": "code",
   "execution_count": null,
   "id": "1022faa0",
   "metadata": {},
   "outputs": [],
   "source": [
    "arrange"
   ]
  },
  {
   "cell_type": "code",
   "execution_count": null,
   "id": "7da68192",
   "metadata": {},
   "outputs": [],
   "source": [
    "#the above method is shorter but leverages the setdefault() method for dictionaries\n"
   ]
  },
  {
   "cell_type": "code",
   "execution_count": null,
   "id": "50317cbf",
   "metadata": {},
   "outputs": [],
   "source": [
    "#another simpler way\n",
    "from collections import defaultdict\n",
    "arranging = defaultdict(list)\n",
    "\n",
    "for word in fruits:\n",
    "    arranging[word[0]].append(word)"
   ]
  },
  {
   "cell_type": "code",
   "execution_count": null,
   "id": "b42c2605",
   "metadata": {},
   "outputs": [],
   "source": [
    "arranging"
   ]
  },
  {
   "cell_type": "code",
   "execution_count": null,
   "id": "39865cf2",
   "metadata": {},
   "outputs": [],
   "source": [
    "#valid dictionary key types"
   ]
  },
  {
   "cell_type": "code",
   "execution_count": null,
   "id": "b8ada1eb",
   "metadata": {},
   "outputs": [],
   "source": [
    "#the keys in a dictionary value to be immutable python objects but the values can be any thing\n",
    "#this is called being hashable they can be ints, str, float or tuples"
   ]
  },
  {
   "cell_type": "code",
   "execution_count": null,
   "id": "09f195d7",
   "metadata": {},
   "outputs": [],
   "source": [
    "#examples\n",
    "hash(1)"
   ]
  },
  {
   "cell_type": "code",
   "execution_count": null,
   "id": "42a236ee",
   "metadata": {},
   "outputs": [],
   "source": [
    "hash('a')"
   ]
  },
  {
   "cell_type": "code",
   "execution_count": null,
   "id": "53378b54",
   "metadata": {},
   "outputs": [],
   "source": [
    "hash((1,2,3))"
   ]
  },
  {
   "cell_type": "code",
   "execution_count": null,
   "id": "7e9b3b36",
   "metadata": {},
   "outputs": [],
   "source": [
    "#if you have to use a list, convert it to a tuple first\n",
    "d = {}\n",
    "c = [1,2,3]\n",
    "e = tuple(c)"
   ]
  },
  {
   "cell_type": "code",
   "execution_count": null,
   "id": "1d2e9c01",
   "metadata": {},
   "outputs": [],
   "source": [
    "#adding a list as a tuple as a key in a dictionary\n",
    "d[tuple([1,2,3])] = 5"
   ]
  },
  {
   "cell_type": "code",
   "execution_count": null,
   "id": "c0f530d1",
   "metadata": {},
   "outputs": [],
   "source": [
    "d"
   ]
  },
  {
   "cell_type": "code",
   "execution_count": null,
   "id": "6c743615",
   "metadata": {},
   "outputs": [],
   "source": [
    "#above is the key and the value"
   ]
  },
  {
   "cell_type": "code",
   "execution_count": null,
   "id": "565a61ac",
   "metadata": {},
   "outputs": [],
   "source": [
    "#sets\n",
    "#this is an unordered python type that does not allow duplicates.\n",
    "#they are declared in 2 ways"
   ]
  },
  {
   "cell_type": "code",
   "execution_count": null,
   "id": "33e25f5e",
   "metadata": {},
   "outputs": [],
   "source": [
    "#adding the word set before\n",
    "set([1,2,2,3,3,4,5,1,2,])"
   ]
  },
  {
   "cell_type": "code",
   "execution_count": null,
   "id": "4b89ce86",
   "metadata": {},
   "outputs": [],
   "source": [
    "#using curly brackets\n",
    "{1,2,3,4,5,6,3,2,1,3}"
   ]
  },
  {
   "cell_type": "code",
   "execution_count": null,
   "id": "e288d106",
   "metadata": {},
   "outputs": [],
   "source": [
    "#see, no duplicates, no maintained order"
   ]
  },
  {
   "cell_type": "code",
   "execution_count": null,
   "id": "c2eb9f99",
   "metadata": {},
   "outputs": [],
   "source": [
    "#you can enjoy the primary school sets concept of union, intersection, difference and more\n",
    "a = {1,2,3,4}\n",
    "b = {4,5,6,7}\n",
    "a.union(b)"
   ]
  },
  {
   "cell_type": "code",
   "execution_count": null,
   "id": "dba3f41b",
   "metadata": {},
   "outputs": [],
   "source": [
    "#or you can use\n",
    "a | b"
   ]
  },
  {
   "cell_type": "code",
   "execution_count": null,
   "id": "8a72988d",
   "metadata": {},
   "outputs": [],
   "source": [
    "#both .union and | bring th union set"
   ]
  },
  {
   "cell_type": "code",
   "execution_count": null,
   "id": "62016058",
   "metadata": {},
   "outputs": [],
   "source": [
    "a.intersection(b)"
   ]
  },
  {
   "cell_type": "code",
   "execution_count": null,
   "id": "822ff66e",
   "metadata": {},
   "outputs": [],
   "source": [
    "a & b"
   ]
  },
  {
   "cell_type": "code",
   "execution_count": null,
   "id": "48fe32ae",
   "metadata": {},
   "outputs": [],
   "source": [
    "#those two bring the intersection"
   ]
  },
  {
   "cell_type": "code",
   "execution_count": null,
   "id": "37af5242",
   "metadata": {},
   "outputs": [],
   "source": [
    "#to combine two sets in to one\n",
    "#to set the elements of both sets to be one of the sets\n",
    "a.update(b) #a |= b"
   ]
  },
  {
   "cell_type": "code",
   "execution_count": null,
   "id": "f1a747ad",
   "metadata": {},
   "outputs": [],
   "source": [
    "a"
   ]
  },
  {
   "cell_type": "code",
   "execution_count": null,
   "id": "6daf2da1",
   "metadata": {},
   "outputs": [],
   "source": [
    "a |= b"
   ]
  },
  {
   "cell_type": "code",
   "execution_count": null,
   "id": "4361120d",
   "metadata": {},
   "outputs": [],
   "source": [
    "a"
   ]
  },
  {
   "cell_type": "code",
   "execution_count": null,
   "id": "4db19153",
   "metadata": {},
   "outputs": [],
   "source": [
    "b"
   ]
  },
  {
   "cell_type": "code",
   "execution_count": null,
   "id": "4502b49e",
   "metadata": {},
   "outputs": [],
   "source": [
    "a"
   ]
  },
  {
   "cell_type": "code",
   "execution_count": null,
   "id": "6476b5c3",
   "metadata": {},
   "outputs": [],
   "source": [
    "c = a.copy()"
   ]
  },
  {
   "cell_type": "code",
   "execution_count": null,
   "id": "00d1e028",
   "metadata": {},
   "outputs": [],
   "source": [
    "c"
   ]
  },
  {
   "cell_type": "code",
   "execution_count": null,
   "id": "daf56332",
   "metadata": {},
   "outputs": [],
   "source": [
    "d = a.copy()"
   ]
  },
  {
   "cell_type": "code",
   "execution_count": null,
   "id": "01830144",
   "metadata": {},
   "outputs": [],
   "source": [
    "d &= b"
   ]
  },
  {
   "cell_type": "code",
   "execution_count": null,
   "id": "b6e91e89",
   "metadata": {},
   "outputs": [],
   "source": [
    "d"
   ]
  },
  {
   "cell_type": "code",
   "execution_count": null,
   "id": "569c62be",
   "metadata": {},
   "outputs": [],
   "source": [
    "a"
   ]
  },
  {
   "cell_type": "code",
   "execution_count": null,
   "id": "ecaae399",
   "metadata": {},
   "outputs": [],
   "source": [
    "b"
   ]
  },
  {
   "cell_type": "code",
   "execution_count": null,
   "id": "0d3289be",
   "metadata": {},
   "outputs": [],
   "source": [
    "b.issuperset(a)"
   ]
  },
  {
   "cell_type": "code",
   "execution_count": null,
   "id": "4f5e5834",
   "metadata": {},
   "outputs": [],
   "source": [
    "e = [1,2,3,4]"
   ]
  },
  {
   "cell_type": "code",
   "execution_count": null,
   "id": "f19b4400",
   "metadata": {},
   "outputs": [],
   "source": [
    "a_set ={tuple(e)}"
   ]
  },
  {
   "cell_type": "code",
   "execution_count": null,
   "id": "0e920d6e",
   "metadata": {},
   "outputs": [],
   "source": [
    "a_set"
   ]
  },
  {
   "cell_type": "code",
   "execution_count": null,
   "id": "549a810a",
   "metadata": {},
   "outputs": [],
   "source": [
    "b.issubset(a)"
   ]
  },
  {
   "cell_type": "code",
   "execution_count": null,
   "id": "a59803ee",
   "metadata": {},
   "outputs": [],
   "source": [
    "a.issuperset(b)"
   ]
  },
  {
   "cell_type": "code",
   "execution_count": null,
   "id": "78aa3fc3",
   "metadata": {},
   "outputs": [],
   "source": [
    "#you can also use the == in sets but you only get true if the\n",
    "#values within are the same \n",
    "{1,2,3} == {3,2,1}"
   ]
  },
  {
   "cell_type": "code",
   "execution_count": null,
   "id": "0f3abe79",
   "metadata": {},
   "outputs": [],
   "source": [
    "#Built in sequence functions"
   ]
  },
  {
   "cell_type": "code",
   "execution_count": null,
   "id": "fbe0c94a",
   "metadata": {},
   "outputs": [],
   "source": [
    "#enumerate\n",
    "#this is used when you want to keep an index of a number especially\n",
    "#as you loop through something.\n",
    "#by using it, you do not have to define position 0 or index zero every time\n"
   ]
  },
  {
   "cell_type": "code",
   "execution_count": null,
   "id": "0c0829c9",
   "metadata": {},
   "outputs": [],
   "source": [
    "#example\n",
    "\n",
    "m = [5,5,5,5,5]\n",
    "n = 0\n",
    "count = 0\n",
    "for i in m:\n",
    "    count = count + 1 #this maintains the zero position and adds the values. this is why we are here\n",
    "    n = n + i\n",
    "print(n) #this adds all the values in the loop but that is not why we are here"
   ]
  },
  {
   "cell_type": "code",
   "execution_count": null,
   "id": "c0075663",
   "metadata": {},
   "outputs": [],
   "source": [
    "print(count)"
   ]
  },
  {
   "cell_type": "code",
   "execution_count": null,
   "id": "3b713543",
   "metadata": {},
   "outputs": [],
   "source": [
    "#applying the enumerate and eliminating the count\n",
    "for count, i in enumerate(m):\n",
    "    count = count + 1 #count+=1\n",
    "print(count)\n",
    "#the method above eliminated the need to use count = 0 at the start"
   ]
  },
  {
   "cell_type": "code",
   "execution_count": null,
   "id": "91ca240e",
   "metadata": {},
   "outputs": [],
   "source": [
    "#sorting values\n",
    "#for a list\n",
    "n = [1,5,7,3,9,0,1]\n",
    "n.sort()"
   ]
  },
  {
   "cell_type": "code",
   "execution_count": null,
   "id": "a81d5f64",
   "metadata": {},
   "outputs": [],
   "source": [
    "m = (1,7,1,5,9,0)\n",
    "m.count(5) #this counts the number of 5s in m\n",
    "#tuples do not have the sort methos"
   ]
  },
  {
   "cell_type": "code",
   "execution_count": null,
   "id": "a52d3c01",
   "metadata": {},
   "outputs": [],
   "source": [
    "n"
   ]
  },
  {
   "cell_type": "code",
   "execution_count": null,
   "id": "8c647ed0",
   "metadata": {},
   "outputs": [],
   "source": [
    "#that sorts the values in the list.\n",
    "#however, if you just want to sort random values, you can use\n",
    "#sorted() which allows arguments unlike sort()\n",
    "sorted([6,7,8,2,5,7,9])"
   ]
  },
  {
   "cell_type": "code",
   "execution_count": null,
   "id": "54023f69",
   "metadata": {},
   "outputs": [],
   "source": [
    "#it also works for words and letters\n",
    "sorted('houese') #it takes one argument"
   ]
  },
  {
   "cell_type": "code",
   "execution_count": null,
   "id": "f2131cd2",
   "metadata": {},
   "outputs": [],
   "source": [
    "sorted(['a','r','e','t'])"
   ]
  },
  {
   "cell_type": "code",
   "execution_count": null,
   "id": "89074ba8",
   "metadata": {},
   "outputs": [],
   "source": [
    "#zip pairs up elements of lists or tuples to create a list of tuples\n",
    "a = [1,2,3,4]\n",
    "b = ['a','b','c']\n",
    "c = zip(a,b)\n",
    "list(c)"
   ]
  },
  {
   "cell_type": "code",
   "execution_count": null,
   "id": "a456c353",
   "metadata": {},
   "outputs": [],
   "source": [
    "d = (1,2,3,4)\n",
    "e = ('a','b','c','c')\n",
    "f = zip(d,e)\n",
    "list(f)"
   ]
  },
  {
   "cell_type": "code",
   "execution_count": null,
   "id": "e3314312",
   "metadata": {},
   "outputs": [],
   "source": [
    "carrot = ['y','z']\n",
    "\n",
    "l = zip(carrot,bag,apple)\n",
    "list(l)"
   ]
  },
  {
   "cell_type": "code",
   "execution_count": null,
   "id": "4b5f97e0",
   "metadata": {},
   "outputs": [],
   "source": [
    "#this element with the least number of values determines the number of list elements created"
   ]
  },
  {
   "cell_type": "code",
   "execution_count": null,
   "id": "b1ff1d64",
   "metadata": {},
   "outputs": [],
   "source": [
    "tomato = ['p']\n",
    "o = zip(carrot,bag,apple,tomato)\n",
    "list(o)"
   ]
  },
  {
   "cell_type": "code",
   "execution_count": null,
   "id": "4713d464",
   "metadata": {},
   "outputs": [],
   "source": [
    "#we only take those that have corresponding values and make a full list. "
   ]
  },
  {
   "cell_type": "code",
   "execution_count": null,
   "id": "7bdcbfc2",
   "metadata": {},
   "outputs": [],
   "source": [
    "#how to create a dictionary from a list\n",
    "apple = [1,2,3,4]\n",
    "bag = ['a','b','c']\n",
    "g = {1:apple,2:bag}\n",
    "g "
   ]
  },
  {
   "cell_type": "code",
   "execution_count": null,
   "id": "f3338fae",
   "metadata": {},
   "outputs": [],
   "source": [
    "#combining zip and enumerate\n",
    "product = ['apple','mango','orange']\n",
    "price = [20,15,30]\n",
    "p = zip(product,price)\n",
    "\n",
    "for count, (a,b) in enumerate(p):\n",
    "    print(f'{count}: {a}, {b}')\n"
   ]
  },
  {
   "cell_type": "code",
   "execution_count": null,
   "id": "893646e5",
   "metadata": {},
   "outputs": [],
   "source": [
    "#reversing elements\n",
    "m = list(range(1,13,2))\n",
    "m"
   ]
  },
  {
   "cell_type": "code",
   "execution_count": null,
   "id": "6cc124e1",
   "metadata": {},
   "outputs": [],
   "source": [
    "m.reverse()"
   ]
  },
  {
   "cell_type": "code",
   "execution_count": null,
   "id": "b3bff4ae",
   "metadata": {},
   "outputs": [],
   "source": [
    "m"
   ]
  },
  {
   "cell_type": "code",
   "execution_count": null,
   "id": "b79648ee",
   "metadata": {},
   "outputs": [],
   "source": [
    "list(reversed(range(10))) #this the reversed concept and is similar to reverse a shown above"
   ]
  },
  {
   "cell_type": "code",
   "execution_count": null,
   "id": "3bc71f22",
   "metadata": {},
   "outputs": [],
   "source": [
    "#list, dictionary and set comprehension"
   ]
  },
  {
   "cell_type": "code",
   "execution_count": null,
   "id": "a5997596",
   "metadata": {},
   "outputs": [],
   "source": [
    "#list comprehension\n",
    "#syntax = [<expression to be done> for <value> in <list> if <condition]\n",
    "\n",
    "x = [1,2,3,4,5,6,7,8,9]\n",
    "m = [i*2 for i in x if i > 5]\n",
    "m"
   ]
  },
  {
   "cell_type": "code",
   "execution_count": null,
   "id": "17fd24bc",
   "metadata": {},
   "outputs": [],
   "source": [
    "n = [i-2 for i in x if i > 2]\n",
    "n"
   ]
  },
  {
   "cell_type": "code",
   "execution_count": null,
   "id": "2be31db4",
   "metadata": {},
   "outputs": [],
   "source": [
    "#this concept of list comprehension provides a simpler way to\n",
    "#do a for loop in just one list line.\n",
    "strings = ['a','as','bat','car','dove','python']\n",
    "[i.upper() for i in strings if len(i) > 2]"
   ]
  },
  {
   "cell_type": "code",
   "execution_count": null,
   "id": "7c38a422",
   "metadata": {},
   "outputs": [],
   "source": [
    "#dictionary comprehensions\n",
    "#syntax {<key expression: value expression> for <value> in <dictionary> if <condition>}\n",
    "#set comprehensions\n",
    "#syntax {<expression to be done> for <value> in <set> if <condtion>}\n",
    "\n",
    "b = {'bat','goat','rat','kitten'}\n",
    "m = {x.upper() for x in b if len(x) >= 4 }"
   ]
  },
  {
   "cell_type": "code",
   "execution_count": null,
   "id": "be86f84b",
   "metadata": {},
   "outputs": [],
   "source": [
    "m"
   ]
  },
  {
   "cell_type": "code",
   "execution_count": null,
   "id": "c18ddc02",
   "metadata": {},
   "outputs": [],
   "source": [
    "type(m)"
   ]
  },
  {
   "cell_type": "code",
   "execution_count": null,
   "id": "6df7f156",
   "metadata": {},
   "outputs": [],
   "source": [
    "p = {i**2 for i in x if i > 2}\n",
    "p"
   ]
  },
  {
   "cell_type": "code",
   "execution_count": null,
   "id": "46095b2d",
   "metadata": {},
   "outputs": [],
   "source": [
    "type(p)"
   ]
  },
  {
   "cell_type": "code",
   "execution_count": null,
   "id": "816cdea9",
   "metadata": {},
   "outputs": [],
   "source": [
    "#the map function allows you to impart the logic of a function on iterables\n",
    "#syntax map(function, iterable1, iterable2, ...)\n",
    "x = [1,2,3,4,5,6]\n",
    "y = [4,5,6,7,8,9]"
   ]
  },
  {
   "cell_type": "code",
   "execution_count": null,
   "id": "7d70c835",
   "metadata": {},
   "outputs": [],
   "source": [
    "def product(x):\n",
    "    return x*x"
   ]
  },
  {
   "cell_type": "code",
   "execution_count": null,
   "id": "b4b1c415",
   "metadata": {},
   "outputs": [],
   "source": [
    "product(9)"
   ]
  },
  {
   "cell_type": "code",
   "execution_count": null,
   "id": "86c9e68d",
   "metadata": {},
   "outputs": [],
   "source": [
    "m = list(map(product, y))"
   ]
  },
  {
   "cell_type": "code",
   "execution_count": null,
   "id": "8eb7a924",
   "metadata": {},
   "outputs": [],
   "source": [
    "m"
   ]
  },
  {
   "cell_type": "code",
   "execution_count": null,
   "id": "7c02be84",
   "metadata": {},
   "outputs": [],
   "source": [
    "#dictionary comprehension\n",
    "#syntax {<key expression: value expression> for <value> in <dictionary> if <condition>}\n",
    "#this always ends up creating a dictionary\n",
    "#example 1\n",
    "{x:x**2 for x in range (1,6)}"
   ]
  },
  {
   "cell_type": "code",
   "execution_count": null,
   "id": "8f7a32a8",
   "metadata": {},
   "outputs": [],
   "source": [
    "#example2\n",
    "strings"
   ]
  },
  {
   "cell_type": "code",
   "execution_count": null,
   "id": "a2f4cf0b",
   "metadata": {},
   "outputs": [],
   "source": [
    "#finding strings and their locations\n",
    "{index : value for index, value in enumerate(strings) if len(value) > 2}"
   ]
  },
  {
   "cell_type": "code",
   "execution_count": null,
   "id": "d0f2e444",
   "metadata": {},
   "outputs": [],
   "source": [
    "#nested list comprehensions"
   ]
  },
  {
   "cell_type": "code",
   "execution_count": null,
   "id": "ffb79b57",
   "metadata": {},
   "outputs": [],
   "source": [
    "a = [[1,2,3,4,5,6,7],[8,9,10,11,12,13,14]]\n"
   ]
  },
  {
   "cell_type": "code",
   "execution_count": null,
   "id": "4779883a",
   "metadata": {},
   "outputs": [],
   "source": [
    "b = []\n",
    "for i in a:\n",
    "    c = [n for n in i if n > 6]\n",
    "    b.extend(c)\n",
    "    \n",
    "b"
   ]
  },
  {
   "cell_type": "code",
   "execution_count": null,
   "id": "1a83e218",
   "metadata": {},
   "outputs": [],
   "source": [
    "c = [['John','Emily','Micheal','Mary'],['Maria','Juan','Javier','Natalia']]"
   ]
  },
  {
   "cell_type": "code",
   "execution_count": null,
   "id": "953c55f2",
   "metadata": {},
   "outputs": [],
   "source": [
    "c"
   ]
  },
  {
   "cell_type": "code",
   "execution_count": null,
   "id": "9ec733fb",
   "metadata": {},
   "outputs": [],
   "source": [
    "j = []\n",
    "\n",
    "#c = [['John','Emily','Micheal','Mary'],['Maria','Juan','Javier','Natalia']]\n",
    "# i = ['John', 'Emily', 'Micheal', 'Mary'] \n",
    "#i = ['Maria', 'Juan', 'Javier', 'Natalia']\n",
    "for i in c:\n",
    "    e = [d for d in i if d.count('a') >= 2] #this checks the new i(s) which are actually the inner lists. d for d creates a new list with values that are true for the condition\n",
    "    j.extend(e)"
   ]
  },
  {
   "cell_type": "code",
   "execution_count": null,
   "id": "05a5a9c6",
   "metadata": {},
   "outputs": [],
   "source": [
    "j"
   ]
  },
  {
   "cell_type": "code",
   "execution_count": null,
   "id": "403c3ff6",
   "metadata": {},
   "outputs": [],
   "source": [
    "#another example\n",
    "y = [[1,2,3,4],[5,6,7,8]]\n",
    "z = []\n",
    "for i in y:\n",
    "    x = [w for w in i if w > 4]\n",
    "    z.extend(x)"
   ]
  },
  {
   "cell_type": "code",
   "execution_count": null,
   "id": "00ef3e9f",
   "metadata": {},
   "outputs": [],
   "source": [
    "z #this has picked the values in the inner lists and put them in one list"
   ]
  },
  {
   "cell_type": "code",
   "execution_count": null,
   "id": "8ab84aa5",
   "metadata": {},
   "outputs": [],
   "source": [
    "#one statement\n",
    "final = [d for i in c for d in i if d.count('a') >= 2] "
   ]
  },
  {
   "cell_type": "code",
   "execution_count": null,
   "id": "c40ca92d",
   "metadata": {},
   "outputs": [],
   "source": [
    "final"
   ]
  },
  {
   "cell_type": "code",
   "execution_count": null,
   "id": "57908509",
   "metadata": {},
   "outputs": [],
   "source": [
    "#sample questions\n",
    "#Given a matrix represented as a list of lists,\n",
    "#write a nested list comprehension to flatten \n",
    "#it into a single list.\n",
    "#Given a matrix represented as a list of lists, \n",
    "#write a nested list comprehension to create a new matrix that \n",
    "#includes only the even numbers.\n",
    "\n",
    "a = [[1,2,3],[4,5,6],[7,8,9]]\n",
    "b = []\n",
    "for i in a:\n",
    "    c = [d for d in i]\n",
    "    b.extend(c)\n",
    "b    "
   ]
  },
  {
   "cell_type": "code",
   "execution_count": null,
   "id": "434642b3",
   "metadata": {},
   "outputs": [],
   "source": [
    "f = []\n",
    "for i in a:\n",
    "    e = [d for d in i if d % 2 == 0]\n",
    "    f.extend(e)\n",
    "f"
   ]
  },
  {
   "cell_type": "code",
   "execution_count": null,
   "id": "00f67341",
   "metadata": {},
   "outputs": [],
   "source": [
    "a"
   ]
  },
  {
   "cell_type": "code",
   "execution_count": null,
   "id": "807b1765",
   "metadata": {},
   "outputs": [],
   "source": [
    "m = [1,2,3,4,5,6,7,8] #the basics\n",
    "[i*2 for i in m if i > 5]"
   ]
  },
  {
   "cell_type": "code",
   "execution_count": null,
   "id": "9d3c6471",
   "metadata": {},
   "outputs": [],
   "source": [
    "#dictionary comprehension\n",
    "#syntax {<key expression>: <value expression> for <value> in <dictionary> if <condition>}\n",
    "{index:value for index, value in enumerate(m)}"
   ]
  },
  {
   "cell_type": "code",
   "execution_count": null,
   "id": "c7639a9a",
   "metadata": {},
   "outputs": [],
   "source": [
    "#set comprehension\n",
    "#syntax {<expression of value> for <value> in <set> if <condition>}\n",
    "{x*2 for x in m if x % 2 == 0}"
   ]
  },
  {
   "cell_type": "code",
   "execution_count": null,
   "id": "37b2135f",
   "metadata": {},
   "outputs": [],
   "source": [
    "m =[[1,2,3],[4,5,6],[7,8,9,10]]\n",
    "b = [d for i in m for d in i if d % 2 == 0]\n",
    "b"
   ]
  },
  {
   "cell_type": "code",
   "execution_count": null,
   "id": "c5ebca59",
   "metadata": {},
   "outputs": [],
   "source": [
    "[[d for d in i] for i in m]"
   ]
  },
  {
   "cell_type": "markdown",
   "id": "6d584145",
   "metadata": {},
   "source": [
    "Python functions\n"
   ]
  },
  {
   "cell_type": "code",
   "execution_count": null,
   "id": "8314a579",
   "metadata": {},
   "outputs": [],
   "source": [
    "#functions allow us to reuse code. When you call a function,\n",
    "#that has a return, the answer obtained from their is sent\n",
    "#back to the place where the function was called\n",
    "def sum(a,b):\n",
    "    return a + b\n",
    "c = sum(5,7)\n",
    "print(c)"
   ]
  },
  {
   "cell_type": "code",
   "execution_count": null,
   "id": "8389dcaf",
   "metadata": {},
   "outputs": [],
   "source": [
    "#In the scenario above, the function call returned into adding 5 and 7 and the result was returned\n",
    "#to the context (c) where the function was called."
   ]
  },
  {
   "cell_type": "code",
   "execution_count": null,
   "id": "d1f11873",
   "metadata": {},
   "outputs": [],
   "source": [
    "#when a function does not have a return statement, the result non is printed\n",
    "def no_return(x):\n",
    "    print(x)\n",
    "\n",
    "result = no_return('hello')\n",
    "print(result) \n",
    "#the value does not save the output but produces it at run time."
   ]
  },
  {
   "cell_type": "code",
   "execution_count": null,
   "id": "adfd0b1f",
   "metadata": {},
   "outputs": [],
   "source": [
    "#positional and keyword arguments\n",
    "def func(a,b,c=1.5):\n",
    "    if c > 1:\n",
    "        return c * (a+b)\n",
    "    else:\n",
    "        return c / (a+b)\n",
    "func(3,8)"
   ]
  },
  {
   "cell_type": "code",
   "execution_count": null,
   "id": "9bd81461",
   "metadata": {},
   "outputs": [],
   "source": [
    "#positional arguments must always be specified and if you want\n",
    "#to add a keyword argument, it should come after the positionals\n",
    "func(4,7,c=5)"
   ]
  },
  {
   "cell_type": "code",
   "execution_count": null,
   "id": "8a8f9200",
   "metadata": {},
   "outputs": [],
   "source": [
    "func(4,7)"
   ]
  },
  {
   "cell_type": "code",
   "execution_count": null,
   "id": "5f8d3e84",
   "metadata": {},
   "outputs": [],
   "source": [
    "#A namespace is the name given to a variable scope. A local\n",
    "#namespace variable is new created in a function and can be\n",
    "#executed but their after destroyed. A global namespace variable\n",
    "#is one that can be accessed any where within a program\n",
    "\n",
    "def func2():\n",
    "    a = []\n",
    "    for i in range(5):\n",
    "        a.append(i)\n",
    "    return a\n"
   ]
  },
  {
   "cell_type": "code",
   "execution_count": null,
   "id": "56832aee",
   "metadata": {},
   "outputs": [],
   "source": [
    "func2()"
   ]
  },
  {
   "cell_type": "code",
   "execution_count": null,
   "id": "8f61f153",
   "metadata": {},
   "outputs": [],
   "source": [
    "#above, the list a is created and then destroyed at the end of the \n",
    "#function running. Without the return, the a does not exist for it is a \n",
    "#local variable.\n",
    "a"
   ]
  },
  {
   "cell_type": "code",
   "execution_count": null,
   "id": "66d175c0",
   "metadata": {},
   "outputs": [],
   "source": [
    "a = []\n",
    "\n",
    "def func3():\n",
    "        for i in range(4):\n",
    "            a.append(i)\n",
    "        \n",
    "func3()"
   ]
  },
  {
   "cell_type": "code",
   "execution_count": null,
   "id": "12fbe246",
   "metadata": {},
   "outputs": [],
   "source": [
    "a"
   ]
  },
  {
   "cell_type": "code",
   "execution_count": null,
   "id": "5267ac6c",
   "metadata": {},
   "outputs": [],
   "source": [
    "func3()"
   ]
  },
  {
   "cell_type": "code",
   "execution_count": null,
   "id": "6423c412",
   "metadata": {},
   "outputs": [],
   "source": [
    "a"
   ]
  },
  {
   "cell_type": "code",
   "execution_count": null,
   "id": "13258952",
   "metadata": {},
   "outputs": [],
   "source": [
    "#it keeps adding to the global variable."
   ]
  },
  {
   "cell_type": "code",
   "execution_count": null,
   "id": "11159933",
   "metadata": {},
   "outputs": [],
   "source": [
    "#if you want a local varibale to exist even after a function\n",
    "#has executed, you need to define it with the global keyword.\n",
    "\n",
    "a = 5\n",
    "\n",
    "def binding():\n",
    "    global a\n",
    "    a = []\n",
    "binding()"
   ]
  },
  {
   "cell_type": "code",
   "execution_count": null,
   "id": "d0f2ba65",
   "metadata": {},
   "outputs": [],
   "source": [
    "a"
   ]
  },
  {
   "cell_type": "code",
   "execution_count": null,
   "id": "79d805cf",
   "metadata": {},
   "outputs": [],
   "source": [
    "#here, the local variable has be accessed globally after the function\n",
    "#has run. This is not always god and when required, it is better to use classes."
   ]
  },
  {
   "cell_type": "code",
   "execution_count": null,
   "id": "58865571",
   "metadata": {},
   "outputs": [],
   "source": [
    "#returning multiple values with a function\n",
    "def f():\n",
    "    a,b,c =1,2,3\n",
    "    return a,b,c\n",
    "#a,b,c = f()"
   ]
  },
  {
   "cell_type": "code",
   "execution_count": null,
   "id": "f6351f73",
   "metadata": {},
   "outputs": [],
   "source": [
    "f() #the return is always a tuple"
   ]
  },
  {
   "cell_type": "code",
   "execution_count": null,
   "id": "4c46a7e0",
   "metadata": {},
   "outputs": [],
   "source": [
    "#returning a dictionary\n",
    "def g():\n",
    "    a = 6\n",
    "    b = 8\n",
    "    c = 7\n",
    "    return {'a': a, 'b':b, 'c':c}\n"
   ]
  },
  {
   "cell_type": "code",
   "execution_count": null,
   "id": "8c9d3b89",
   "metadata": {},
   "outputs": [],
   "source": [
    "g() #this returns a dictionary of values"
   ]
  },
  {
   "cell_type": "code",
   "execution_count": 23,
   "id": "d1bf0682",
   "metadata": {},
   "outputs": [],
   "source": [
    "#functions as object. An object is self contained unit of data\n",
    "\n",
    "states = [' Alabama ',  ' Alabama', \"Georgia!\", \"Georgia\",\n",
    "\"georgia\", \"FlOrIda\",\n",
    "\"south    carolina## \", \"West virginia?\"]\n",
    "\n",
    "#using a regular expression to clean up\n",
    "\n"
   ]
  },
  {
   "cell_type": "code",
   "execution_count": 24,
   "id": "8e5cceae",
   "metadata": {},
   "outputs": [],
   "source": [
    "#cleaning the values\n",
    "import re\n",
    "\n",
    "def cleaned(strings):\n",
    "    result = []\n",
    "    for value in strings:\n",
    "        value = value.strip() #this removes the front and back white spaces, lstrip and rstrip removes left and right white spaces respectively\n",
    "        value = re.sub('[!#?]','',value) #this substitutes the first '' with values in the second ''\n",
    "        value = value.title() #this makes the first letter of every values a capital\n",
    "        result.append(value)\n",
    "    return result"
   ]
  },
  {
   "cell_type": "code",
   "execution_count": 25,
   "id": "754d05e1",
   "metadata": {},
   "outputs": [
    {
     "data": {
      "text/plain": [
       "['Alabama',\n",
       " 'Alabama',\n",
       " 'Georgia',\n",
       " 'Georgia',\n",
       " 'Georgia',\n",
       " 'Florida',\n",
       " 'South    Carolina',\n",
       " 'West Virginia']"
      ]
     },
     "execution_count": 25,
     "metadata": {},
     "output_type": "execute_result"
    }
   ],
   "source": [
    "cleaned(states)"
   ]
  },
  {
   "cell_type": "code",
   "execution_count": 36,
   "id": "8480d443",
   "metadata": {},
   "outputs": [],
   "source": [
    "states = [' Alabama ',  ' Alabama', \"Georgia!\", \"Georgia\",\n",
    "\"georgia\", \"FlOrIda\",\n",
    "\"south    carolina## \", \"West virginia?\"]"
   ]
  },
  {
   "cell_type": "code",
   "execution_count": 29,
   "id": "a34b714e",
   "metadata": {},
   "outputs": [],
   "source": [
    "def punctuation(value):\n",
    "    return re.sub('[!#?]','',value)\n",
    "\n",
    "clean_ = [str.strip, punctuation, str.title]"
   ]
  },
  {
   "cell_type": "code",
   "execution_count": 46,
   "id": "606b0de4",
   "metadata": {},
   "outputs": [],
   "source": [
    "import re\n",
    "\n",
    "def clean(strings):\n",
    "    result = []\n",
    "    for value in strings:\n",
    "        value = value.strip()\n",
    "        value = re.sub('[!#?]','',value)\n",
    "        value = value.title()\n",
    "        result.append(value) \n",
    "    return result"
   ]
  },
  {
   "cell_type": "code",
   "execution_count": 47,
   "id": "cc71f352",
   "metadata": {},
   "outputs": [
    {
     "data": {
      "text/plain": [
       "['Alabama',\n",
       " 'Alabama',\n",
       " 'Georgia',\n",
       " 'Georgia',\n",
       " 'Georgia',\n",
       " 'Florida',\n",
       " 'South    Carolina',\n",
       " 'West Virginia']"
      ]
     },
     "execution_count": 47,
     "metadata": {},
     "output_type": "execute_result"
    }
   ],
   "source": [
    "clean(states)"
   ]
  },
  {
   "cell_type": "code",
   "execution_count": 48,
   "id": "a8cec83e",
   "metadata": {},
   "outputs": [],
   "source": [
    "#using the map function\n",
    "\n",
    "def punctuation_removal(state):\n",
    "         return re.sub('[!#?]','',state)"
   ]
  },
  {
   "cell_type": "code",
   "execution_count": 52,
   "id": "817753b9",
   "metadata": {},
   "outputs": [
    {
     "name": "stdout",
     "output_type": "stream",
     "text": [
      " Alabama \n",
      " Alabama\n",
      "Georgia\n",
      "Georgia\n",
      "georgia\n",
      "FlOrIda\n",
      "south    carolina \n",
      "West virginia\n"
     ]
    }
   ],
   "source": [
    "for x in map(punctuation_removal,states):\n",
    "    print(x)"
   ]
  },
  {
   "cell_type": "code",
   "execution_count": 61,
   "id": "6383fd32",
   "metadata": {},
   "outputs": [],
   "source": [
    "#lambda function in pythin are anonymous functions that allow for declaring and using a function a function the go. \n",
    "#they come in handy and are declared with the word lambda\n",
    "\n",
    "x = [2,4,6,8,10,12,14,16,18,120]\n",
    "\n",
    "def double(m):\n",
    "    return m * 2"
   ]
  },
  {
   "cell_type": "code",
   "execution_count": 62,
   "id": "5c3638b5",
   "metadata": {},
   "outputs": [
    {
     "data": {
      "text/plain": [
       "[2, 4, 6, 8, 10, 12, 14, 16, 18, 120, 2, 4, 6, 8, 10, 12, 14, 16, 18, 120]"
      ]
     },
     "execution_count": 62,
     "metadata": {},
     "output_type": "execute_result"
    }
   ],
   "source": [
    "double(x)"
   ]
  },
  {
   "cell_type": "code",
   "execution_count": 63,
   "id": "0bb3f833",
   "metadata": {},
   "outputs": [
    {
     "data": {
      "text/plain": [
       "[2, 4, 6, 8, 10, 12, 14, 16, 18, 120, 2, 4, 6, 8, 10, 12, 14, 16, 18, 120]"
      ]
     },
     "execution_count": 63,
     "metadata": {},
     "output_type": "execute_result"
    }
   ],
   "source": [
    "m = lambda x: x * 2\n",
    "m(x)"
   ]
  },
  {
   "cell_type": "code",
   "execution_count": 73,
   "id": "44f54903",
   "metadata": {},
   "outputs": [],
   "source": [
    "#multiplying the values\n",
    "def multiple(lists, m):\n",
    "    return [m(x) for x in lists]\n",
    "\n",
    "n = [2,4,6,8]\n",
    "\n"
   ]
  },
  {
   "cell_type": "code",
   "execution_count": 74,
   "id": "b03d217a",
   "metadata": {},
   "outputs": [
    {
     "data": {
      "text/plain": [
       "[4, 8, 12, 16]"
      ]
     },
     "execution_count": 74,
     "metadata": {},
     "output_type": "execute_result"
    }
   ],
   "source": [
    "multiple(n,lambda x: x * 2)"
   ]
  },
  {
   "cell_type": "code",
   "execution_count": 80,
   "id": "e043d94d",
   "metadata": {},
   "outputs": [],
   "source": [
    "#names = ['Manzi Hilbert Mucunguzi', 'Joel Peter Obua', 'John Baptism Okuta'\n",
    "\n",
    "#def get_names(name):\n",
    " #   for i in name:\n",
    "        "
   ]
  },
  {
   "cell_type": "code",
   "execution_count": 82,
   "id": "9026b916",
   "metadata": {},
   "outputs": [
    {
     "name": "stdout",
     "output_type": "stream",
     "text": [
      "a\n",
      "b\n",
      "c\n"
     ]
    }
   ],
   "source": [
    "#the iterable concept\n",
    "dictionary = {'a':1,'b':2,'c':3}\n",
    "for i in dictionary:\n",
    "    print(i)"
   ]
  },
  {
   "cell_type": "code",
   "execution_count": 83,
   "id": "f8439108",
   "metadata": {},
   "outputs": [
    {
     "name": "stdout",
     "output_type": "stream",
     "text": [
      "1\n",
      "4\n",
      "9\n",
      "16\n",
      "25\n",
      "36\n",
      "49\n",
      "64\n",
      "81\n"
     ]
    }
   ],
   "source": [
    "for i in range(1,10):\n",
    "    i = i ** 2\n",
    "    \n",
    "    print(i)"
   ]
  },
  {
   "cell_type": "code",
   "execution_count": 90,
   "id": "83fe99bc",
   "metadata": {},
   "outputs": [],
   "source": [
    "#generator allow for creating values on the go to save spcae and or other purposes\n",
    "def squares(n=10):\n",
    "    print(f'Printing squares from 1 to {n ** 2}')\n",
    "    for i in range(1,n + 1):\n",
    "        yield i ** 2\n",
    "        \n"
   ]
  },
  {
   "cell_type": "code",
   "execution_count": 91,
   "id": "a74b4665",
   "metadata": {},
   "outputs": [],
   "source": [
    "m = squares(5)"
   ]
  },
  {
   "cell_type": "code",
   "execution_count": 92,
   "id": "7c88c316",
   "metadata": {},
   "outputs": [
    {
     "data": {
      "text/plain": [
       "generator"
      ]
     },
     "execution_count": 92,
     "metadata": {},
     "output_type": "execute_result"
    }
   ],
   "source": [
    "type(m)"
   ]
  },
  {
   "cell_type": "code",
   "execution_count": 93,
   "id": "b8c6fc0c",
   "metadata": {},
   "outputs": [
    {
     "data": {
      "text/plain": [
       "<generator object squares at 0x7eff862f59a0>"
      ]
     },
     "execution_count": 93,
     "metadata": {},
     "output_type": "execute_result"
    }
   ],
   "source": [
    "m"
   ]
  },
  {
   "cell_type": "code",
   "execution_count": 94,
   "id": "63cc5b22",
   "metadata": {},
   "outputs": [
    {
     "name": "stdout",
     "output_type": "stream",
     "text": [
      "Printing squares from 1 to 100\n",
      "1\n",
      "4\n",
      "9\n",
      "16\n",
      "25\n",
      "36\n",
      "49\n",
      "64\n",
      "81\n",
      "100\n"
     ]
    }
   ],
   "source": [
    "for i in squares(10):\n",
    "    print(i)"
   ]
  },
  {
   "cell_type": "code",
   "execution_count": null,
   "id": "502c8fba",
   "metadata": {},
   "outputs": [],
   "source": [
    "#generator expressions\n"
   ]
  }
 ],
 "metadata": {
  "kernelspec": {
   "display_name": "Python 3 (ipykernel)",
   "language": "python",
   "name": "python3"
  },
  "language_info": {
   "codemirror_mode": {
    "name": "ipython",
    "version": 3
   },
   "file_extension": ".py",
   "mimetype": "text/x-python",
   "name": "python",
   "nbconvert_exporter": "python",
   "pygments_lexer": "ipython3",
   "version": "3.11.5"
  }
 },
 "nbformat": 4,
 "nbformat_minor": 5
}
